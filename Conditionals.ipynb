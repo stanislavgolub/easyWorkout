{
 "cells": [
  {
   "cell_type": "markdown",
   "id": "5699362b",
   "metadata": {},
   "source": [
    "# Conditionals"
   ]
  },
  {
   "cell_type": "markdown",
   "id": "959b4493",
   "metadata": {},
   "source": [
    " "
   ]
  },
  {
   "cell_type": "markdown",
   "id": "bcfae9c0",
   "metadata": {},
   "source": [
    "In this task, we will explore the fundamental applications of conditionals to regulate the flow of execution in straightforward programs.\n",
    "\n",
    "Helpful links: [Python If, Else](https://www.w3schools.com/python/gloss_python_else.asp), [Python String format() Method](https://www.w3schools.com/python/ref_string_format.asp)"
   ]
  },
  {
   "cell_type": "markdown",
   "id": "42b38e2e",
   "metadata": {},
   "source": [
    " "
   ]
  },
  {
   "cell_type": "markdown",
   "id": "c3db87d4",
   "metadata": {},
   "source": [
    " ### Workout 1: Blood Pressure Status App"
   ]
  },
  {
   "cell_type": "markdown",
   "id": "46d78962",
   "metadata": {},
   "source": [
    " "
   ]
  },
  {
   "cell_type": "markdown",
   "id": "3c43baab",
   "metadata": {},
   "source": [
    "Suppose you find yourself enrolled in an extremely challenging programming course, and the stress from the course is taking a toll on you. As a result, your doctor advises you to regularly monitor your `systolic` `blood pressure`. Unfortunately, recalling numerical values is not your strong suit, and you would prefer to understand your pressure in everyday language.\n",
    "\n",
    "To accomplish this, let's create a `straightforward` `conditional statement`:\n",
    "\n",
    "Instructions:\n",
    "\n",
    "1. Utilize a combination of `input()`, `if`, `elif`, and `else` statements to develop a program that prompts the user for their blood pressure.\n",
    "2. Compare the entered blood pressure against the following chart and store the corresponding status in a variable called `blood_pressure_status`.\n",
    "3. At the conclusion of the program, print a well-constructed sentence using a formatting string to display your blood pressure status. Utilize `.format()` `method` to `substitute` the formatting string with the value stored in `blood_pressure_status`.\n",
    "\n",
    "#### Note:\n",
    "\n",
    "Make sure to consult the blood pressure chart provided and assign the appropriate status to `blood_pressure_status` before printing the final sentence."
   ]
  },
  {
   "cell_type": "markdown",
   "id": "0b69e663",
   "metadata": {},
   "source": [
    " "
   ]
  },
  {
   "cell_type": "markdown",
   "id": "91bcab3e",
   "metadata": {},
   "source": [
    "| Start | End | Status     |\n",
    "|-------|-----|------------|\n",
    "| --    | 89  | Low        |\n",
    "| 90    | 119 | Ideal      |\n",
    "| 120   | 139 | Warning    |\n",
    "| 140   | 159 | High       |\n",
    "| 160   | --  | Emergency  |"
   ]
  },
  {
   "cell_type": "markdown",
   "id": "7c70fccf",
   "metadata": {},
   "source": [
    " "
   ]
  },
  {
   "cell_type": "markdown",
   "id": "e8c16a94",
   "metadata": {},
   "source": [
    "Remember to keep in mind that the `input` provided to the `input` function is in the form of a `string`."
   ]
  },
  {
   "cell_type": "markdown",
   "id": "8d3c5734",
   "metadata": {},
   "source": [
    " "
   ]
  },
  {
   "cell_type": "code",
   "execution_count": 1,
   "id": "6151f09f",
   "metadata": {},
   "outputs": [
    {
     "name": "stdout",
     "output_type": "stream",
     "text": [
      "What is your blood pressure? 108\n",
      "Your status is currently: Ideal\n"
     ]
    }
   ],
   "source": [
    "blood_preasure = input('What is your blood pressure? ')\n",
    "\"\"\"\n",
    "    Asks the user their blood pressure via raw_input() function and by \n",
    "    comparing the entered data against the pre-loaded chart and saves the status to a variable named BP_STATUS.\n",
    "    \n",
    "    Args:\n",
    "        blood_preasure(integer): a string containing numbers\n",
    "        blood_preasure_status(string): a string containing texts\n",
    "        \n",
    "    Returns:\n",
    "        string with a blood pressure test result\n",
    "        \n",
    "    Example:\n",
    "    \n",
    "        >>> What is your blood pressure? 116\n",
    "            Your status is currently: Ideal\n",
    "\"\"\"\n",
    "blood_preasure = int(blood_preasure)\n",
    "\n",
    "if blood_preasure <= 89:\n",
    "    blood_preasure_status = 'Low!'\n",
    "elif blood_preasure >= 90 and blood_preasure <= 119:\n",
    "    blood_preasure_status = 'Ideal'\n",
    "elif blood_preasure >= 120 and blood_preasure <= 139:\n",
    "    blood_preasure_status = 'Warning!'\n",
    "elif blood_preasure >= 140 and blood_preasure <= 159:\n",
    "    blood_preasure_status = 'High!'\n",
    "else:\n",
    "    blood_preasure_status = 'Emergency!'\n",
    "    \n",
    "print('Your status is currently: {}'.format(blood_preasure_status))"
   ]
  },
  {
   "cell_type": "markdown",
   "id": "1cdc99e1",
   "metadata": {},
   "source": [
    " "
   ]
  },
  {
   "cell_type": "markdown",
   "id": "cfe12da4",
   "metadata": {},
   "source": [
    " "
   ]
  },
  {
   "cell_type": "markdown",
   "id": "664caef1",
   "metadata": {},
   "source": [
    "### References"
   ]
  },
  {
   "cell_type": "markdown",
   "id": "c2dd5037",
   "metadata": {},
   "source": [
    "Lutz, M. (2013). *Learning Python (5th ed.)*. O'Reilly Media. https://www.oreilly.com/library/view/learning-python-5th/9781449355722/"
   ]
  }
 ],
 "metadata": {
  "kernelspec": {
   "display_name": "Python 3 (ipykernel)",
   "language": "python",
   "name": "python3"
  },
  "language_info": {
   "codemirror_mode": {
    "name": "ipython",
    "version": 3
   },
   "file_extension": ".py",
   "mimetype": "text/x-python",
   "name": "python",
   "nbconvert_exporter": "python",
   "pygments_lexer": "ipython3",
   "version": "3.10.9"
  }
 },
 "nbformat": 4,
 "nbformat_minor": 5
}

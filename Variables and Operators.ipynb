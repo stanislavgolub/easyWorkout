{
 "cells": [
  {
   "cell_type": "markdown",
   "id": "5699362b",
   "metadata": {},
   "source": [
    "# Variables and Operators"
   ]
  },
  {
   "cell_type": "markdown",
   "id": "959b4493",
   "metadata": {},
   "source": [
    " "
   ]
  },
  {
   "cell_type": "markdown",
   "id": "c3db87d4",
   "metadata": {},
   "source": [
    " ### Workout 1"
   ]
  },
  {
   "cell_type": "markdown",
   "id": "46d78962",
   "metadata": {},
   "source": [
    " "
   ]
  },
  {
   "cell_type": "markdown",
   "id": "3c43baab",
   "metadata": {},
   "source": [
    "Make a `prompt` that requests `your name`, and once you press the enter key, `greets you`. On a fresh line in your notebook (marked by the `\"In [ ]\"` descriptor), `replicate` the procedure mentioned earlier and `construct a script` that `prompts` the user to provide their `location`. Subsequently, display a message reiterating the user's location (for instance, `\"Impressive! I imagine Boston is quite chilly!\"`)."
   ]
  },
  {
   "cell_type": "markdown",
   "id": "0b69e663",
   "metadata": {},
   "source": [
    " "
   ]
  },
  {
   "cell_type": "code",
   "execution_count": 1,
   "id": "1679f9d1",
   "metadata": {},
   "outputs": [
    {
     "name": "stdout",
     "output_type": "stream",
     "text": [
      "What is your name? Stanislav\n",
      "\n",
      "Hi, Stanislav!\n"
     ]
    }
   ],
   "source": [
    "name = input(\"What is your name? \")\n",
    "\n",
    "print (\"\")\n",
    "print (\"Hi, \" + name + \"!\")"
   ]
  },
  {
   "cell_type": "markdown",
   "id": "98a6b90a",
   "metadata": {},
   "source": [
    " "
   ]
  },
  {
   "cell_type": "code",
   "execution_count": 2,
   "id": "d6066a49",
   "metadata": {},
   "outputs": [
    {
     "name": "stdout",
     "output_type": "stream",
     "text": [
      "Where do you live? Boston\n",
      "\n",
      "Impressive! I imagine Boston is quite chilly!\n"
     ]
    }
   ],
   "source": [
    "location = input(\"Where do you live? \")\n",
    "\n",
    "print(\"\")\n",
    "print (\"Impressive! I imagine \" + location + \" is quite chilly!\")"
   ]
  },
  {
   "cell_type": "markdown",
   "id": "fe8bbc08",
   "metadata": {},
   "source": [
    " "
   ]
  },
  {
   "cell_type": "markdown",
   "id": "a101753e",
   "metadata": {},
   "source": [
    " "
   ]
  },
  {
   "cell_type": "markdown",
   "id": "6f7e52ea",
   "metadata": {},
   "source": [
    "### Workout 2"
   ]
  },
  {
   "cell_type": "markdown",
   "id": "8d3c5734",
   "metadata": {},
   "source": [
    " "
   ]
  },
  {
   "cell_type": "markdown",
   "id": "07beab34",
   "metadata": {},
   "source": [
    "`Parentheses are respected` by Python's order of operations. Construct a `one-line mathematical expression` according to the given `instructions`:\n",
    "\n",
    "1. Define a variable called `number`.\n",
    "2. Determine the remainder when dividing 19 by 10\n",
    "3. Add the obtained remainder to 100\n",
    "4. Add the previous result to the value of 2 raised to the power of 8 (perform exponentiation using Python syntax)\n",
    "5. Divide the sum of all the above by 7\n",
    "6. `Round` the result\n",
    "\n",
    "Helpful links: [Python Operators](https://www.geeksforgeeks.org/python-operators/)"
   ]
  },
  {
   "cell_type": "markdown",
   "id": "9c18a38b",
   "metadata": {},
   "source": [
    " "
   ]
  },
  {
   "cell_type": "code",
   "execution_count": 3,
   "id": "6151f09f",
   "metadata": {},
   "outputs": [
    {
     "name": "stdout",
     "output_type": "stream",
     "text": [
      "52.142857142857146\n",
      "52\n"
     ]
    }
   ],
   "source": [
    "number = ((19 % 10 + 100) + 2 ** 8) / 7\n",
    "\n",
    "print(number)\n",
    "print(round(number))"
   ]
  },
  {
   "cell_type": "markdown",
   "id": "beda005d",
   "metadata": {},
   "source": [
    " "
   ]
  },
  {
   "cell_type": "markdown",
   "id": "d803122d",
   "metadata": {},
   "source": [
    " "
   ]
  },
  {
   "cell_type": "markdown",
   "id": "1a3e44a1",
   "metadata": {},
   "source": [
    "### Workout 4"
   ]
  },
  {
   "cell_type": "markdown",
   "id": "53a80cbc",
   "metadata": {},
   "source": [
    " "
   ]
  },
  {
   "cell_type": "markdown",
   "id": "d12c05d2",
   "metadata": {},
   "source": [
    "Perform a simple `string slicing` operation. Here are the instructions: \n",
    "\n",
    "1. Declare `james_bond` `variable` and assign it to the `'Danger James Bond!'` string.\n",
    "2. Utilize the `slice` syntax (using `array slicing [::]` method) to extract the first 7 characters (including `space`) from the `james_bond` variable.\n",
    "3. Assign the resulting sliced portion to a new variable called `warning_message`.\n",
    "\n",
    "Helpful links: [String Slicing](https://www.geeksforgeeks.org/string-slicing-in-python/)"
   ]
  },
  {
   "cell_type": "markdown",
   "id": "e1b9d344",
   "metadata": {},
   "source": [
    " "
   ]
  },
  {
   "cell_type": "code",
   "execution_count": 4,
   "id": "846c8476",
   "metadata": {},
   "outputs": [
    {
     "name": "stdout",
     "output_type": "stream",
     "text": [
      "Danger James Bond!\n",
      "Danger \n"
     ]
    }
   ],
   "source": [
    "james_bond = \"Danger James Bond!\"\n",
    "warning_message = james_bond[0:7:1] # or [:7] for short\n",
    "\n",
    "print(james_bond)\n",
    "print(warning_message)"
   ]
  },
  {
   "cell_type": "markdown",
   "id": "8598cd69",
   "metadata": {},
   "source": [
    " "
   ]
  },
  {
   "cell_type": "markdown",
   "id": "84ebd143",
   "metadata": {},
   "source": [
    " "
   ]
  },
  {
   "cell_type": "markdown",
   "id": "a1cef200",
   "metadata": {},
   "source": [
    "### Workout 5"
   ]
  },
  {
   "cell_type": "markdown",
   "id": "a113d76b",
   "metadata": {},
   "source": [
    " "
   ]
  },
  {
   "cell_type": "markdown",
   "id": "4e7046ce",
   "metadata": {},
   "source": [
    "Let's attempt to repeat a string. Instructions:\n",
    "\n",
    "1. Employ the string repetition operator to `repeat` the `warning` message five times.\n",
    "2. Store the resulting repetition back into the `warning_message` variable and print it out.\n",
    "\n",
    "Helpful links: [Python Operators](https://www.geeksforgeeks.org/python-operators/)"
   ]
  },
  {
   "cell_type": "markdown",
   "id": "0aedf41e",
   "metadata": {},
   "source": [
    " "
   ]
  },
  {
   "cell_type": "code",
   "execution_count": 5,
   "id": "64c0424f",
   "metadata": {},
   "outputs": [
    {
     "name": "stdout",
     "output_type": "stream",
     "text": [
      "Danger Danger Danger Danger Danger \n"
     ]
    }
   ],
   "source": [
    "warning_message = james_bond[:7] * 5\n",
    "\n",
    "print(warning_message)"
   ]
  },
  {
   "cell_type": "markdown",
   "id": "d71f1194",
   "metadata": {},
   "source": [
    " "
   ]
  },
  {
   "cell_type": "markdown",
   "id": "5122be88",
   "metadata": {},
   "source": [
    " "
   ]
  },
  {
   "cell_type": "markdown",
   "id": "5e34b061",
   "metadata": {},
   "source": [
    "### Workout 6"
   ]
  },
  {
   "cell_type": "markdown",
   "id": "91c34ab0",
   "metadata": {},
   "source": [
    " "
   ]
  },
  {
   "cell_type": "markdown",
   "id": "91a98746",
   "metadata": {},
   "source": [
    "The split() function in strings allows us to `split a string into multiple parts` using a specified delimiter. It returns a `list` containing the separated elements. Instructions: \n",
    "\n",
    "1. Create a variable `superheroes`.\n",
    "2. Assign it to the following `string`: `\"Superman. Wonderwoman. Captain America. Groot.\"`\n",
    "3. Apply the `.split()` method to the `superheroes` variable, using the period followed by a space `'. '` as the delimiter.\n",
    "4. Store the resulting split segments in a new variable called `superheroes_team` and print it out.\n",
    "\n",
    "Helpful links: [String Split](https://www.geeksforgeeks.org/python-operators/)"
   ]
  },
  {
   "cell_type": "markdown",
   "id": "c2e12349",
   "metadata": {},
   "source": [
    " "
   ]
  },
  {
   "cell_type": "code",
   "execution_count": 6,
   "id": "02222d41",
   "metadata": {},
   "outputs": [
    {
     "name": "stdout",
     "output_type": "stream",
     "text": [
      "['Superman', 'Wonderwoman', 'Captain America', 'Groot']\n"
     ]
    }
   ],
   "source": [
    "superheroes = \"Superman. Wonderwoman. Captain America. Groot\"\n",
    "superheroes_team = superheroes.split('. ')\n",
    "\n",
    "print(superheroes_team)"
   ]
  },
  {
   "cell_type": "markdown",
   "id": "52dcfd8a",
   "metadata": {},
   "source": [
    " "
   ]
  },
  {
   "cell_type": "markdown",
   "id": "1a2a7707",
   "metadata": {},
   "source": [
    " "
   ]
  },
  {
   "cell_type": "markdown",
   "id": "991a024f",
   "metadata": {},
   "source": [
    "### Workout 7"
   ]
  },
  {
   "cell_type": "markdown",
   "id": "2fc9c5df",
   "metadata": {},
   "source": [
    " "
   ]
  },
  {
   "cell_type": "markdown",
   "id": "02522059",
   "metadata": {},
   "source": [
    "The `strip()` function proves extremely helpful when dealing with poorly formatted data. Specifications:\n",
    "\n",
    "1. Create a variable `phrase`.\n",
    "2. Assign it to the following `string`: `\"//////////A long-tailed cat in a room full of rockin' chairs.,,,,,,,,,, \"`.\n",
    "3. Utilize the `strip()` function to eliminate whitespace from the `phrase` variable, and store the resulting modified string back into the same `phrase` variable.\n",
    "4. In a single-line statement, make use of `rstrip()` and `lstrip()` to remove commas (,) and forward slashes (/) from the `phrase` variable. Store the modified string back into the `phrase` variable.\n",
    "\n",
    "#### Note:\n",
    "Chaining multiple function calls together is feasible when a function returns the original object or an object of the same type (such as a string). This approach allows for a shorthand notation where subsequent `.function()` calls can be linked one after another.\n",
    "\n",
    "Helpful links: [lstring() method](https://www.geeksforgeeks.org/python-string-lstrip-method/?ref=gcse)"
   ]
  },
  {
   "cell_type": "markdown",
   "id": "b524d9d9",
   "metadata": {},
   "source": [
    " "
   ]
  },
  {
   "cell_type": "code",
   "execution_count": 7,
   "id": "03f95489",
   "metadata": {},
   "outputs": [
    {
     "name": "stdout",
     "output_type": "stream",
     "text": [
      "Graceful and independent, the cat prowls with a touch of mystery.\n"
     ]
    }
   ],
   "source": [
    "phrase = \"//////////Graceful and independent, the cat prowls with a touch of mystery.,,,,,,,,,, \".strip()\n",
    "phrase = phrase.lstrip('/').rstrip(',')\n",
    "\n",
    "print(phrase)"
   ]
  },
  {
   "cell_type": "markdown",
   "id": "fe74f412",
   "metadata": {},
   "source": [
    " "
   ]
  },
  {
   "cell_type": "markdown",
   "id": "a3b26fde",
   "metadata": {},
   "source": [
    " "
   ]
  },
  {
   "cell_type": "markdown",
   "id": "fc833176",
   "metadata": {},
   "source": [
    "### Workout 8"
   ]
  },
  {
   "cell_type": "markdown",
   "id": "77a311d5",
   "metadata": {},
   "source": [
    " "
   ]
  },
  {
   "cell_type": "markdown",
   "id": "3447401a",
   "metadata": {},
   "source": [
    "Python offers some simple but useful string functions, such as `.lower()` and `.upper()`, that deal with `casing`. Instructions:\n",
    "\n",
    "1. Create a variable `heading`.\n",
    "2. Assign it to the following `string`: `\"he devoted his life to compassion. his killer showed none.\"`.\n",
    "3. Apply a `string function` that converts the `heading` to `title` case and store the resulting string in a new variable called `heading_entitled`.\n",
    "\n",
    "\n",
    "Helpful links: [String Title](https://www.geeksforgeeks.org/title-in-python/?ref=gcse)"
   ]
  },
  {
   "cell_type": "markdown",
   "id": "6a348cc5",
   "metadata": {},
   "source": [
    " "
   ]
  },
  {
   "cell_type": "code",
   "execution_count": 8,
   "id": "4b84071f",
   "metadata": {},
   "outputs": [
    {
     "name": "stdout",
     "output_type": "stream",
     "text": [
      "He Devoted His Life To Compassion. His Killer Showed None.\n"
     ]
    }
   ],
   "source": [
    "heading = \"he devoted his life to compassion. his killer showed none.\"\n",
    "heading_entitled = heading.title()\n",
    "\n",
    "print(heading_entitled)"
   ]
  },
  {
   "cell_type": "markdown",
   "id": "3d0ae50f",
   "metadata": {},
   "source": [
    " "
   ]
  },
  {
   "cell_type": "markdown",
   "id": "8e258549",
   "metadata": {},
   "source": [
    " "
   ]
  },
  {
   "cell_type": "markdown",
   "id": "aaf2c20d",
   "metadata": {},
   "source": [
    "### Workout 9"
   ]
  },
  {
   "cell_type": "markdown",
   "id": "9298252d",
   "metadata": {},
   "source": [
    " "
   ]
  },
  {
   "cell_type": "markdown",
   "id": "7a378211",
   "metadata": {},
   "source": [
    "At this stage, we should familiarize ourselves with a few more fundamental types. Specifications:\n",
    "\n",
    "\n",
    "1. Declare a new variable called `is_true` and set its value to `True`.\n",
    "2. Create another variable named `is_false` on the subsequent line and assign it the value `False`.\n",
    "3. Generate a new variable named `is_none` and assign it the value `None`.\n",
    "4. In a single-line statement, utilize the logical `and` operator and the `equality operator` to verify if `is_true` is equal to `1` and `is_false` is equal to `0`.\n",
    "5. Store the resulting evaluation in a new variable named `integer_equiv`.\n",
    "6. `Print` all `varialbles` for the final output.\n",
    "\n",
    "#### Note:\n",
    "The expression `integer_equiv = is_true == 1 and is_false == 0` compares the variables `is_true` and `is_false` with the values `1` and `0`, respectively. It uses the logical `and` operator (and) to combine two conditions.\n",
    "\n",
    "In Python, the `==` operator is used for equality comparison. When comparing `is_true` with `1`, if `is_true` holds the value `True`, the comparison will return `True` because `True` is equal to `1`. Similarly, when comparing `is_false` with `0`, if `is_false` holds the value `False`, the comparison will return `True` because `False` is equal to `0`. The logical `and` operator (and) returns `True` only if both conditions on either side of it are `True`. So, if `is_true` is `True` and `is_false` is `False`, the entire expression will evaluate to `True`.\n",
    "\n",
    "Therefore, if is_true holds the value `True` and `is_false` holds the value `False`, the expression `integer_equiv = is_true == 1 and is_false == 0` will return `True`."
   ]
  },
  {
   "cell_type": "markdown",
   "id": "50226112",
   "metadata": {},
   "source": [
    " "
   ]
  },
  {
   "cell_type": "code",
   "execution_count": 9,
   "id": "e9d023d6",
   "metadata": {},
   "outputs": [
    {
     "name": "stdout",
     "output_type": "stream",
     "text": [
      "True\n",
      "False\n",
      "None\n",
      "True\n"
     ]
    }
   ],
   "source": [
    "is_true = True\n",
    "is_false = False\n",
    "is_none = None\n",
    "\n",
    "integer_equiv = is_true == 1 and is_false == 0\n",
    "\n",
    "print(is_true)\n",
    "print(is_false)\n",
    "print(is_none)\n",
    "print(integer_equiv)"
   ]
  },
  {
   "cell_type": "markdown",
   "id": "662e31d0",
   "metadata": {},
   "source": [
    " "
   ]
  },
  {
   "cell_type": "markdown",
   "id": "1cdc99e1",
   "metadata": {},
   "source": [
    " "
   ]
  },
  {
   "cell_type": "markdown",
   "id": "664caef1",
   "metadata": {},
   "source": [
    "### References"
   ]
  },
  {
   "cell_type": "markdown",
   "id": "c2dd5037",
   "metadata": {},
   "source": [
    "Lutz, M. (2013). *Learning Python (5th ed.)*. O'Reilly Media. https://www.oreilly.com/library/view/learning-python-5th/9781449355722/"
   ]
  }
 ],
 "metadata": {
  "kernelspec": {
   "display_name": "Python 3 (ipykernel)",
   "language": "python",
   "name": "python3"
  },
  "language_info": {
   "codemirror_mode": {
    "name": "ipython",
    "version": 3
   },
   "file_extension": ".py",
   "mimetype": "text/x-python",
   "name": "python",
   "nbconvert_exporter": "python",
   "pygments_lexer": "ipython3",
   "version": "3.10.9"
  }
 },
 "nbformat": 4,
 "nbformat_minor": 5
}

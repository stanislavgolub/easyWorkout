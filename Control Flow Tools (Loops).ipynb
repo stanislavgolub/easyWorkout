{
 "cells": [
  {
   "cell_type": "markdown",
   "id": "5699362b",
   "metadata": {},
   "source": [
    "# Control Flow Tools (Loops)"
   ]
  },
  {
   "cell_type": "markdown",
   "id": "959b4493",
   "metadata": {},
   "source": [
    " "
   ]
  },
  {
   "cell_type": "markdown",
   "id": "bcfae9c0",
   "metadata": {},
   "source": [
    "Python's vast collection of looping techniques, when paired with its versatile data structures, enables the streamlined processing of extensive data sets.\n",
    "\n",
    "Helpful links: [First Steps Towards Programming](https://docs.python.org/3/tutorial/introduction.html#first-steps-towards-programming), [More Control Flow Tools](https://docs.python.org/3.10/tutorial/controlflow.html)"
   ]
  },
  {
   "cell_type": "markdown",
   "id": "42b38e2e",
   "metadata": {},
   "source": [
    " "
   ]
  },
  {
   "cell_type": "markdown",
   "id": "c3db87d4",
   "metadata": {},
   "source": [
    " ### Workout 1: `For Loop` and Fibonacci"
   ]
  },
  {
   "cell_type": "markdown",
   "id": "46d78962",
   "metadata": {},
   "source": [
    " "
   ]
  },
  {
   "cell_type": "markdown",
   "id": "3c43baab",
   "metadata": {},
   "source": [
    "In this task, we aim to create a function called `fibonacci()` that utilizes a while loop to generate a `Fibonacci sequence` up to a` given upper bound` specified by the `maxint` parameter. We will `store` the generated numbers in a `list` and return the `list` as the `output`.\n",
    "\n",
    "To achieve this, we will employ Python's `multiple assignment feature`, as seen in the following statement ([Fibonacci example](https://docs.python.org/3/tutorial/introduction.html#first-steps-towards-programming)):"
   ]
  },
  {
   "cell_type": "markdown",
   "id": "0b69e663",
   "metadata": {},
   "source": [
    " "
   ]
  },
  {
   "cell_type": "code",
   "execution_count": null,
   "id": "1679f9d1",
   "metadata": {},
   "outputs": [],
   "source": [
    "last_number, current_number = current_number, last_number + current_number"
   ]
  },
  {
   "cell_type": "markdown",
   "id": "8d3c5734",
   "metadata": {},
   "source": [
    " "
   ]
  },
  {
   "cell_type": "markdown",
   "id": "07beab34",
   "metadata": {},
   "source": [
    "This feature allows us to update both `last_number` and `current_number` simultaneously before their values change, ensuring a proper `Fibonacci` sequence generation.\n",
    "\n",
    "Unlike the example in the [Python tutorial](https://docs.python.org/3/tutorial/introduction.html#first-steps-towards-programming), we will incorporate the following modifications:\n",
    "\n",
    "1. We will use a while loop to generate the `Fibonacci` sequence, with the `upper bound` being determined by the `maxint` parameter.\n",
    "2. The generated `Fibonacci` numbers will be stored in a `list`, with each new number being appended to the list.\n",
    "3. The function will `return` the `newly generated sequence` as a `list`.\n",
    "\n",
    "#### Output:\n",
    "\n",
    "For instance, if we call the \"fibonacci(10)\" function, the expected output should be:\n",
    "\n",
    "`[0, 1, 1, 2, 3, 5, 8]`\n",
    "\n",
    "This output includes the initial `0` value, as per our example."
   ]
  },
  {
   "cell_type": "markdown",
   "id": "9c18a38b",
   "metadata": {},
   "source": [
    " "
   ]
  },
  {
   "cell_type": "code",
   "execution_count": 1,
   "id": "6151f09f",
   "metadata": {},
   "outputs": [
    {
     "data": {
      "text/plain": [
       "[0, 1, 1, 2, 3, 5, 8]"
      ]
     },
     "execution_count": 1,
     "metadata": {},
     "output_type": "execute_result"
    }
   ],
   "source": [
    "# standard 'for loop' construction \n",
    "def fibonacci(maxint):\n",
    "    \"\"\"\n",
    "    Creates sequence of integers where first two terms are 0 and 1 and all other \n",
    "    terms of the sequence are obtained by adding their preceding two numbers.\n",
    "    \n",
    "    Args:\n",
    "        maxint(list): a list of numbers\n",
    "        \n",
    "    Returns:\n",
    "        list: Fibonacci sequence in a list of numbers\n",
    "        \n",
    "    Example:\n",
    "    \n",
    "        >>> fibonacci(23)\n",
    "            [0, 1, 1, 2, 3, 5, 8, 13, 21]\n",
    "    \"\"\"\n",
    "    fibonacci_list = []\n",
    "    a, b = 0, 1\n",
    "    while a < maxint:\n",
    "        fibonacci_list.append(a)\n",
    "        a, b = b, a + b\n",
    "    return fibonacci_list\n",
    "\n",
    "fibonacci(10)"
   ]
  },
  {
   "cell_type": "markdown",
   "id": "0bd86660",
   "metadata": {},
   "source": [
    " "
   ]
  },
  {
   "cell_type": "markdown",
   "id": "aa6ce0ca",
   "metadata": {},
   "source": [
    "### Workout 2:  `For Loop` to loop over a simple data construct"
   ]
  },
  {
   "cell_type": "markdown",
   "id": "71ba313c",
   "metadata": {},
   "source": [
    " "
   ]
  },
  {
   "cell_type": "markdown",
   "id": "50226112",
   "metadata": {},
   "source": [
    "In this task, your objective is to create a straightforward `for-loop` to iterate over a simple data construct, specifically to determine the `maximum`, `minimum`, and `average` length of words in a speech, employing a `lexicographical analysis` similar to what is utilized to assess reading level. Specifications:\n",
    "\n",
    "1. Define a function named `lexicographics()` that accepts a single parameter `to_analyze`, a mandatory string to be analyzed.\n",
    "2. Using a single for loop, compute the following metrics for the input text:\n",
    "- The `maximum` number of words per line in `to_analyze` (representing the length of the `longest line`).\n",
    "- The `minimum` number of words per line in `to_analyze` (representing the length of the `shortest line`).\n",
    "- The `average` number of words per line in `to_analyze,` stored as a `decimal`.\n",
    "3. Return these values as a `tuple` in the `same order as specified above`.\n",
    "\n",
    "#### Hint: \n",
    "\n",
    "To achieve this task with a `for-loop`, it's crucial to `set up` `appropriate variables` `outside the loop` to collect the data as you process it.\n",
    "\n",
    "Use the `split()` method `twice` for this task. `First`, split the string based on the `newline character` (\\n) to create an `iterable list of lines`. Then, as you iterate over each line, use `split()` again without any parameters to `count the number of words`.\n",
    "\n",
    "#### Tip:\n",
    "\n",
    "There are at least `two effective ways` to solve this problem, each with its own `advantages`. One approach involves utilizing the `max()`, `min()`, and `sum()` functions to `operate on a list`, while the other approach uses `if` statements `to set up running totals`. Both methods are acceptable solutions."
   ]
  },
  {
   "cell_type": "markdown",
   "id": "6b6b7500",
   "metadata": {},
   "source": [
    " "
   ]
  },
  {
   "cell_type": "code",
   "execution_count": 2,
   "id": "ebadae33",
   "metadata": {},
   "outputs": [
    {
     "data": {
      "text/plain": [
       "(9, 7, Decimal('8'))"
      ]
     },
     "execution_count": 2,
     "metadata": {},
     "output_type": "execute_result"
    }
   ],
   "source": [
    "import decimal\n",
    "\n",
    "def lexicographics(to_analyze):\n",
    "    \"\"\"\n",
    "    Calculating maximum, minimum and average numbers of words \n",
    "    in a separated string per line.\n",
    "    \n",
    "    Args:\n",
    "        to_analyze(tuple): a tuple of words\n",
    "        \n",
    "    Returns:\n",
    "        tuple with maximum, minimum, and stored as a decimal average number of words per line\n",
    "        \n",
    "    Example:\n",
    "    \n",
    "        >>> lexicographics('''Don't stop believing,\n",
    "        Hold on to that feeling.''')\n",
    "        (5, 3, Decimal(4.0))\n",
    "    \"\"\"\n",
    "    separated_string = to_analyze.split('\\n')\n",
    "    for words in separated_string:\n",
    "        maximum = max(separated_string)\n",
    "        minimum = min(separated_string)\n",
    "        average = len(to_analyze.split()) / 2\n",
    "        if len(maximum) > len(minimum):\n",
    "            return (len(maximum.split()), len(minimum.split()), decimal.Decimal(average))\n",
    "        else: \n",
    "            return (len(minimum.split()), len(maximum.split()), decimal.Decimal(average))\n",
    "            \n",
    "lexicographics('''There are at least two good ways to solve \n",
    "this problem each with their own benefits.''')"
   ]
  },
  {
   "cell_type": "markdown",
   "id": "1cdc99e1",
   "metadata": {},
   "source": [
    " "
   ]
  },
  {
   "cell_type": "markdown",
   "id": "cfe12da4",
   "metadata": {},
   "source": [
    " "
   ]
  },
  {
   "cell_type": "markdown",
   "id": "664caef1",
   "metadata": {},
   "source": [
    "### References"
   ]
  },
  {
   "cell_type": "markdown",
   "id": "c2dd5037",
   "metadata": {},
   "source": [
    "Lutz, M. (2013). *Learning Python (5th ed.)*. O'Reilly Media. https://www.oreilly.com/library/view/learning-python-5th/9781449355722/"
   ]
  }
 ],
 "metadata": {
  "kernelspec": {
   "display_name": "Python 3 (ipykernel)",
   "language": "python",
   "name": "python3"
  },
  "language_info": {
   "codemirror_mode": {
    "name": "ipython",
    "version": 3
   },
   "file_extension": ".py",
   "mimetype": "text/x-python",
   "name": "python",
   "nbconvert_exporter": "python",
   "pygments_lexer": "ipython3",
   "version": "3.10.9"
  }
 },
 "nbformat": 4,
 "nbformat_minor": 5
}

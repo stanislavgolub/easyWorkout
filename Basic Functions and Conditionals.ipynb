{
 "cells": [
  {
   "cell_type": "markdown",
   "id": "5699362b",
   "metadata": {},
   "source": [
    "# Basic Functions and Conditionals"
   ]
  },
  {
   "cell_type": "markdown",
   "id": "959b4493",
   "metadata": {},
   "source": [
    " "
   ]
  },
  {
   "cell_type": "markdown",
   "id": "c3db87d4",
   "metadata": {},
   "source": [
    " ### Workout 1"
   ]
  },
  {
   "cell_type": "markdown",
   "id": "46d78962",
   "metadata": {},
   "source": [
    " "
   ]
  },
  {
   "cell_type": "markdown",
   "id": "3c43baab",
   "metadata": {},
   "source": [
    "Let's create a function that ensures that we have a `sufficient` number of `litterboxes` for each cats and that we possess some cat food. It then utilizes the `not` operator to determine whether we have an `excessive` number of `cats`.\n",
    "\n",
    "1. Create a function called `too_many_cats` which accepts three parameters described below and in the following sequence:\n",
    "\n",
    "* `cats` - which denotes the quantity of cats.\n",
    "* `litterboxes` - representing the numerical value of available litterboxes.\n",
    "* `catfood` - as a boolean indicating the presence or absence of any cat food.\n",
    "\n",
    "2. Within the function, return the result of evaluating the given comparison statement: `not (litterboxes >= kittens and catfood)`.\n",
    "3. Use `comments` to explain the purpose and `functionality` of the function to other developers.\n",
    "\n",
    "#### Note: \n",
    "the importance of spacing around logical operators such as `and`, `not`, or `or`. Without proper spacing, the `not` operator `could be mistaken` for a `function`, for instance, `not()`.\n",
    "\n",
    "It is worth noting the interesting characteristic of Python's polymorphic nature, as the truthiness concept allows `catfood` to be either a `boolean` (e.g., `True`) or a `numerical value` like `0` or even `None`, and the functionality would still remain reasonably intact.\n",
    "\n",
    "Helpful links: [not Keyword](https://www.w3schools.com/python/ref_keyword_not.asp)"
   ]
  },
  {
   "cell_type": "markdown",
   "id": "0b69e663",
   "metadata": {},
   "source": [
    " "
   ]
  },
  {
   "cell_type": "code",
   "execution_count": 1,
   "id": "1679f9d1",
   "metadata": {},
   "outputs": [
    {
     "name": "stdout",
     "output_type": "stream",
     "text": [
      "False\n",
      "True\n",
      "True\n",
      "False\n"
     ]
    }
   ],
   "source": [
    "def too_many_cats(cats, litterboxes, catfood):\n",
    "    return not (litterboxes >= cats and catfood)\n",
    "    \"\"\"Ensures that we have at least one litterbox for each cat and some catfood, and then returns and inverted Boolean '\n",
    "       to answer whether or not we have too many cats.\n",
    "       \n",
    "    Args:\n",
    "        cats (Integer): The number of cats.\n",
    "        litterboxes (Integer): The number of available litterboxes.\n",
    "        catfood (Booleand): A Boolean representing whether or not any catfood exists.\n",
    "        \n",
    "    Returns:\n",
    "        Inverted Boolean to answer whether or not we have too many cats.\n",
    "        \n",
    "    Example:\n",
    "    \n",
    "        >>> too_many_cats(14, 35, True)\n",
    "        False  \n",
    "        >>> too_many_cats(1, 1, False)\n",
    "        True\n",
    "        \n",
    "    \"\"\"\n",
    "\n",
    "print(too_many_cats(1, 1, 1))\n",
    "print(too_many_cats(12, 12, False))\n",
    "print(too_many_cats(13, 12, True))\n",
    "print(too_many_cats(12, 13, True))"
   ]
  },
  {
   "cell_type": "markdown",
   "id": "98a6b90a",
   "metadata": {},
   "source": [
    " "
   ]
  },
  {
   "cell_type": "markdown",
   "id": "fe8bbc08",
   "metadata": {},
   "source": [
    " "
   ]
  },
  {
   "cell_type": "markdown",
   "id": "6f7e52ea",
   "metadata": {},
   "source": [
    "### Workout 2"
   ]
  },
  {
   "cell_type": "markdown",
   "id": "8d3c5734",
   "metadata": {},
   "source": [
    " "
   ]
  },
  {
   "cell_type": "markdown",
   "id": "07beab34",
   "metadata": {},
   "source": [
    "1. Create a function called `defaults` with two parameters: `my_optional` with a default value of `True`, `my_required` which is a mandatory parameter and does not have a default value.\n",
    "2. `Return` the result of the following logical comparison statement: `my_optional is my_required`\n",
    "\n",
    "#### Note: \n",
    "\n",
    "The `is` keyword is used to test if two variables refer to the `same object`.\n",
    "\n",
    "Helpful links: [is Keyword](https://www.w3schools.com/python/ref_keyword_is.asp)"
   ]
  },
  {
   "cell_type": "markdown",
   "id": "9c18a38b",
   "metadata": {},
   "source": [
    " "
   ]
  },
  {
   "cell_type": "code",
   "execution_count": 2,
   "id": "6151f09f",
   "metadata": {},
   "outputs": [
    {
     "name": "stdout",
     "output_type": "stream",
     "text": [
      "True\n",
      "False\n",
      "True\n"
     ]
    }
   ],
   "source": [
    "def defaults(my_required, my_optional = True):\n",
    "    return (my_optional is my_required)\n",
    "    \"\"\"If two Booleans have the same identity, it returns True. Otherwise, it returns False.\n",
    "       \n",
    "    Args:\n",
    "        my_required, my_optional (Booleans): Regular Booleans.\n",
    "        \n",
    "    Returns:\n",
    "        True when Booleans have the same identity. Otherwise, it returns False.\n",
    "        \n",
    "    Example:\n",
    "    \n",
    "        >>> defaults(False, True)\n",
    "        False\n",
    "    \"\"\"\n",
    "\n",
    "print(defaults(True))\n",
    "print(defaults(True, False))\n",
    "print(defaults(False, False))"
   ]
  },
  {
   "cell_type": "markdown",
   "id": "50226112",
   "metadata": {},
   "source": [
    " "
   ]
  },
  {
   "cell_type": "markdown",
   "id": "1cdc99e1",
   "metadata": {},
   "source": [
    " "
   ]
  },
  {
   "cell_type": "markdown",
   "id": "664caef1",
   "metadata": {},
   "source": [
    "### References"
   ]
  },
  {
   "cell_type": "markdown",
   "id": "c2dd5037",
   "metadata": {},
   "source": [
    "Lutz, M. (2013). *Learning Python (5th ed.)*. O'Reilly Media. https://www.oreilly.com/library/view/learning-python-5th/9781449355722/"
   ]
  }
 ],
 "metadata": {
  "kernelspec": {
   "display_name": "Python 3 (ipykernel)",
   "language": "python",
   "name": "python3"
  },
  "language_info": {
   "codemirror_mode": {
    "name": "ipython",
    "version": 3
   },
   "file_extension": ".py",
   "mimetype": "text/x-python",
   "name": "python",
   "nbconvert_exporter": "python",
   "pygments_lexer": "ipython3",
   "version": "3.10.9"
  }
 },
 "nbformat": 4,
 "nbformat_minor": 5
}

{
 "cells": [
  {
   "cell_type": "markdown",
   "id": "5699362b",
   "metadata": {},
   "source": [
    "# Dictionaries"
   ]
  },
  {
   "cell_type": "markdown",
   "id": "959b4493",
   "metadata": {},
   "source": [
    " "
   ]
  },
  {
   "cell_type": "markdown",
   "id": "bcfae9c0",
   "metadata": {},
   "source": [
    "The Python dict class serves as the fundamental mapping type in Python. By utilizing it, information can be organized and connected through significant keys, unlocking a vast range of programming possibilities.\n",
    "\n",
    "Helpful links: [Python Dictionaries](https://www.w3schools.com/python/python_dictionaries.asp), [Dictionaries](https://docs.python.org/3/tutorial/datastructures.html#dictionaries), [.format() Method](https://www.w3schools.com/python/ref_string_format.asp), [.format() Method 2](https://pyformat.info). [map() Function](https://realpython.com/python-map-function/), [get() Method](https://www.programiz.com/python-programming/methods/dictionary/get)"
   ]
  },
  {
   "cell_type": "markdown",
   "id": "42b38e2e",
   "metadata": {},
   "source": [
    " "
   ]
  },
  {
   "cell_type": "markdown",
   "id": "c3db87d4",
   "metadata": {},
   "source": [
    " ### Workout 1: `Importing Data` from the `Module` (File)"
   ]
  },
  {
   "cell_type": "markdown",
   "id": "46d78962",
   "metadata": {},
   "source": [
    " "
   ]
  },
  {
   "cell_type": "markdown",
   "id": "3c43baab",
   "metadata": {},
   "source": [
    "A `module` refers to a Python file that contains variables, functions, and any other code that you intend to reuse."
   ]
  },
  {
   "cell_type": "markdown",
   "id": "0b69e663",
   "metadata": {},
   "source": [
    " "
   ]
  },
  {
   "cell_type": "code",
   "execution_count": 1,
   "id": "1679f9d1",
   "metadata": {},
   "outputs": [
    {
     "name": "stdout",
     "output_type": "stream",
     "text": [
      "['/Users/stanislav/Desktop/Coding /easyWorkout', '/Users/stanislav/anaconda3/lib/python310.zip', '/Users/stanislav/anaconda3/lib/python3.10', '/Users/stanislav/anaconda3/lib/python3.10/lib-dynload', '', '/Users/stanislav/anaconda3/lib/python3.10/site-packages', '/Users/stanislav/anaconda3/lib/python3.10/site-packages/PyQt5_sip-12.11.0-py3.10-macosx-10.9-x86_64.egg', '/Users/stanislav/anaconda3/lib/python3.10/site-packages/aeosa', '/Users/stanislav/anaconda3/lib/python3.10/site-packages/mpmath-1.2.1-py3.10.egg', '/Users/stanislav/anaconda3/lib/python3.10/site-packages/pycurl-7.45.1-py3.10-macosx-10.9-x86_64.egg', '/Users/stanislav/Desktop']\n"
     ]
    }
   ],
   "source": [
    "import sys\n",
    "\"\"\"\n",
    "Description:\n",
    "\n",
    "    This module provides access to some variables used or maintained by the interpreter and to functions '\n",
    "    that interact strongly with the interpreter.\n",
    "\n",
    "\"\"\"\n",
    "\n",
    "# adding a specific path for an interpreter to search.\n",
    "sys.path.append(\"/Users/stanislav/Desktop\")\n",
    "\n",
    "# printing all directories for interpreter to search\n",
    "print(sys.path)"
   ]
  },
  {
   "cell_type": "markdown",
   "id": "61ad64c9",
   "metadata": {},
   "source": [
    " "
   ]
  },
  {
   "cell_type": "code",
   "execution_count": 2,
   "id": "6151f09f",
   "metadata": {},
   "outputs": [
    {
     "name": "stdout",
     "output_type": "stream",
     "text": [
      "Bands:  \n",
      "\n",
      " {'Spinal Tap': {'David St. Hubbins': ['vocals', 'guitar'], 'Nigel Tufnel': ['guitar', 'vocals', 'bass', 'violin', 'harmonica', 'clarinet', 'keyboards', 'piano'], 'Derek Smalls': ['bass', 'vocals'], 'Jeffery Vanston': ['keyboards', 'piano', 'vocals'], 'Gregg Bissonette': ['drums']}, 'The Beatles': {'John': ['vocals', 'guitar', 'piano', 'keyboards'], 'Paul': ['vocals', 'bass', 'piano', 'keyboards'], 'George': ['vocals', 'guitar', 'other'], 'Ringo': ['vocals', 'drums']}, 'The Who': {'Roger Daltrey': ['vocals'], 'John Entwistle': ['bass'], 'Keith Moon': ['drums'], 'Pete Townsend': ['guitar']}, 'Van Halen': {'Eddie Van Halen': ['guitar'], 'David Lee Roth': ['vocals'], 'Alex Van Halen': ['drums'], 'Michael Anthony': ['bass']}, 'Fleetwood Mac': {'Mick Fleetwood': ['drums'], 'John McVie': ['bass'], 'Christine McVie': ['vocals', 'piano', 'keyboards']}, 'Queen': {'Freddie Mercury': ['vocals', 'piano'], 'Brian May': ['guitar', 'vocals'], 'John Deacon': ['bass'], 'Roger Taylor': ['drums', 'vocals']}, 'The Rolling Stones': {'Mick Jagger': ['vocals', 'harmonica', 'percussion', 'guitar', 'piano', 'bass'], 'Keith Richards': ['guitar', 'vocals'], 'Charlie Watts': ['drums', 'percussion'], 'Ronnie Wood': ['guitar', 'vocals', 'bass']}} \n",
      "\n",
      "Superheroes:  \n",
      "\n",
      " {'Kitty Pryde': {'alias': 'Shadowcat', 'pet': 'Lockheed'}, 'Bruce Wayne': {'alias': 'Batman', 'pet': 'Ace'}, 'Clark Kent': {'alias': 'Superman', 'pet': 'Krypto'}, 'Samuel Wilson': {'alias': 'Falcon', 'pet': 'Redwing'}, 'Logan': {'alias': 'Weapon X'}}\n"
     ]
    }
   ],
   "source": [
    "# importing data from the 'dictionaries_data.py' file and printing it out\n",
    "from task_07.dictionaries_data import bands\n",
    "from task_07.dictionaries_data import superheroes\n",
    "\n",
    "print(\"Bands: \", '\\n\\n', bands, '\\n')\n",
    "print(\"Superheroes: \", '\\n\\n', superheroes)"
   ]
  },
  {
   "cell_type": "markdown",
   "id": "0bd86660",
   "metadata": {},
   "source": [
    " "
   ]
  },
  {
   "cell_type": "markdown",
   "id": "924bf7b5",
   "metadata": {},
   "source": [
    " ### Workout 2: `Dictionaries` and `Looping` Techniques"
   ]
  },
  {
   "cell_type": "markdown",
   "id": "ac2f024e",
   "metadata": {},
   "source": [
    " "
   ]
  },
  {
   "cell_type": "markdown",
   "id": "3664b8ee",
   "metadata": {},
   "source": [
    "In Python, when we want to display a list using the print statement, we typically use `str(list)`, which results in the list being `enclosed in single quotes`. However, there are situations where we need to print a list `without any quotes`. Here, we will explore several methods to achieve this requirement as well.\n",
    "\n",
    "Let's print out keys and values using various `printing out` techniques, such as `.format() method`, `join function`, `map() function`, `sep method`, and `f-strings` to print out `keys` and `values` in a more readible way and `without quotes`. "
   ]
  },
  {
   "cell_type": "markdown",
   "id": "b06ccaf1",
   "metadata": {},
   "source": [
    " "
   ]
  },
  {
   "cell_type": "markdown",
   "id": "cb1e0cd4",
   "metadata": {},
   "source": [
    " #### Method 1: using `.format()`, `join` and `map` functions\n",
    " \n",
    "The `map()` `function` is a built-in feature that `enables` the `processing and conversion` of every item in an iterable without the need for an explicit for loop. This technique, commonly referred to as mapping, is beneficial when you want to apply a transformation function to each item in an iterable and generate a new iterable with the transformed values.\n",
    "\n",
    "The `join()` `function` is a built-in string function that allows us to `generate a new string` by `combining a list` of string elements with a `separator of our choice`."
   ]
  },
  {
   "cell_type": "markdown",
   "id": "7cc62ada",
   "metadata": {},
   "source": [
    " "
   ]
  },
  {
   "cell_type": "code",
   "execution_count": 3,
   "id": "f1b36278",
   "metadata": {},
   "outputs": [
    {
     "name": "stdout",
     "output_type": "stream",
     "text": [
      "SPINAL TAP: David St. Hubbins, Nigel Tufnel, Derek Smalls, Jeffery Vanston, Gregg Bissonette\n",
      "THE BEATLES: John, Paul, George, Ringo\n",
      "THE WHO: Roger Daltrey, John Entwistle, Keith Moon, Pete Townsend\n",
      "VAN HALEN: Eddie Van Halen, David Lee Roth, Alex Van Halen, Michael Anthony\n",
      "FLEETWOOD MAC: Mick Fleetwood, John McVie, Christine McVie\n",
      "QUEEN: Freddie Mercury, Brian May, John Deacon, Roger Taylor\n",
      "THE ROLLING STONES: Mick Jagger, Keith Richards, Charlie Watts, Ronnie Wood\n"
     ]
    }
   ],
   "source": [
    "# printing out keys and values in a more readible way \n",
    "# using format method, join and map functions\n",
    "for band, members in bands.items():\n",
    "        print(band.upper() + \":\", (\"{}\".format(', '.join(map(str, members.keys())))))"
   ]
  },
  {
   "cell_type": "markdown",
   "id": "bac6870b",
   "metadata": {},
   "source": [
    " "
   ]
  },
  {
   "cell_type": "markdown",
   "id": "e7e39169",
   "metadata": {},
   "source": [
    "#### Method 2: using `f-strings` (formatted string literals) and `sep` method\n",
    "\n",
    "`f-strings` provide a convenient way to include expressions within `string literals` by utilizing `{}`. In the provided code, the `join method` is employed to combine the elements of the list using a comma. `*` prints `values` from the main keys."
   ]
  },
  {
   "cell_type": "markdown",
   "id": "791f8225",
   "metadata": {},
   "source": [
    " "
   ]
  },
  {
   "cell_type": "code",
   "execution_count": 4,
   "id": "ccd01fac",
   "metadata": {},
   "outputs": [
    {
     "name": "stdout",
     "output_type": "stream",
     "text": [
      "Kitty Pryde, Bruce Wayne, Clark Kent, Samuel Wilson, Logan\n"
     ]
    }
   ],
   "source": [
    "# printing out keys using `f-strings` method and join function\n",
    "print(f\"{', '.join(superheroes.keys())}\")"
   ]
  },
  {
   "cell_type": "markdown",
   "id": "dff5643d",
   "metadata": {},
   "source": [
    " "
   ]
  },
  {
   "cell_type": "code",
   "execution_count": 5,
   "id": "cae32f8a",
   "metadata": {},
   "outputs": [
    {
     "name": "stdout",
     "output_type": "stream",
     "text": [
      "Spinal Tap\n",
      "The Beatles\n",
      "The Who\n",
      "Van Halen\n",
      "Fleetwood Mac\n",
      "Queen\n",
      "The Rolling Stones\n"
     ]
    }
   ],
   "source": [
    "# printing out keys using `sep` method (bonus)\n",
    "print(*bands, sep ='\\n')"
   ]
  },
  {
   "cell_type": "markdown",
   "id": "d1b84c4f",
   "metadata": {},
   "source": [
    " "
   ]
  },
  {
   "cell_type": "markdown",
   "id": "aa6ce0ca",
   "metadata": {},
   "source": [
    "### Workout 2: `Dictionaries` data manipulation "
   ]
  },
  {
   "cell_type": "markdown",
   "id": "71ba313c",
   "metadata": {},
   "source": [
    " "
   ]
  },
  {
   "cell_type": "markdown",
   "id": "50226112",
   "metadata": {},
   "source": [
    "#### Printing out values from keys\n",
    "\n",
    "The `get()` method returns the `value` for the `specified key` if the key is in the `dictionary`."
   ]
  },
  {
   "cell_type": "markdown",
   "id": "6b6b7500",
   "metadata": {},
   "source": [
    " "
   ]
  },
  {
   "cell_type": "code",
   "execution_count": 6,
   "id": "ebadae33",
   "metadata": {},
   "outputs": [
    {
     "name": "stdout",
     "output_type": "stream",
     "text": [
      "Nigel Tufnel's roles: guitar, vocals, bass, violin, harmonica, clarinet, keyboards, piano\n",
      "Bruce Wayne's alias: Batman\n"
     ]
    }
   ],
   "source": [
    "# assigning variable as `Nigel Tufnel` member's roles [value] from the `Spinal Tap` band\n",
    "Nigel_Tufnel = bands['Spinal Tap'].get('Nigel Tufnel')\n",
    "\n",
    "# assigning variable as `Bruce Wayne's` alias [value] from the `Superheroes` dict\n",
    "Bruce_Wayne = superheroes['Bruce Wayne'].get('alias')\n",
    "\n",
    "print(\"Nigel Tufnel's roles:\", f\"{', '.join(Nigel_Tufnel)}\")\n",
    "print(\"Bruce Wayne's alias:\", Bruce_Wayne)"
   ]
  },
  {
   "cell_type": "markdown",
   "id": "49a4e217",
   "metadata": {},
   "source": [
    " "
   ]
  },
  {
   "cell_type": "markdown",
   "id": "0466ab00",
   "metadata": {},
   "source": [
    "#### Modifying data in dictionaries: `adding`, `replacing` and `deleting` keys and values\n",
    "\n",
    "To begin with, we will incorporate a new band member named `Bob Dylan` into the `Spinal Tap` band, along with specifying his roles within the band, such as `vocals`, `guitar`, and `harmonica`. Initially, let's display the `original list of members` in the `Spinal Tap` band:"
   ]
  },
  {
   "cell_type": "markdown",
   "id": "8b46bf74",
   "metadata": {},
   "source": [
    " "
   ]
  },
  {
   "cell_type": "code",
   "execution_count": 7,
   "id": "58b5bd81",
   "metadata": {},
   "outputs": [
    {
     "name": "stdout",
     "output_type": "stream",
     "text": [
      "Original list of members:\n",
      "David St. Hubbins\n",
      "Nigel Tufnel\n",
      "Derek Smalls\n",
      "Jeffery Vanston\n",
      "Gregg Bissonette\n"
     ]
    }
   ],
   "source": [
    "# printing out original list of members of the `Spinal Tap` band\n",
    "print(\"Original list of members:\", *bands['Spinal Tap'], sep = '\\n')"
   ]
  },
  {
   "cell_type": "markdown",
   "id": "c4d6f9db",
   "metadata": {},
   "source": [
    " "
   ]
  },
  {
   "cell_type": "code",
   "execution_count": 8,
   "id": "d11bbfd0",
   "metadata": {},
   "outputs": [
    {
     "name": "stdout",
     "output_type": "stream",
     "text": [
      "Updated 'Spinal Tap' members:\n",
      "David St. Hubbins\n",
      "Nigel Tufnel\n",
      "Derek Smalls\n",
      "Jeffery Vanston\n",
      "Gregg Bissonette\n",
      "Bob Dylan\n"
     ]
    }
   ],
   "source": [
    "# making a copy of the orginal 'bands' dictionary \n",
    "bands_updated = bands.copy()\n",
    "\n",
    "# adding 'Bob Dylan' into the 'Spinal Tap' band with his roles\n",
    "bands_updated['Spinal Tap']['Bob Dylan'] = ['vocals', 'guitar', 'harmonica']\n",
    "\n",
    "# printing out updated list of members of the `Spinal Tap` band\n",
    "print(\"Updated 'Spinal Tap' members:\", *bands['Spinal Tap'], sep = '\\n')"
   ]
  },
  {
   "cell_type": "markdown",
   "id": "5308a338",
   "metadata": {},
   "source": [
    " "
   ]
  },
  {
   "cell_type": "code",
   "execution_count": 9,
   "id": "ff14f137",
   "metadata": {},
   "outputs": [
    {
     "name": "stdout",
     "output_type": "stream",
     "text": [
      "Yep, Bob Dylan is in the Spinal Tap band :D\n",
      "Bob Dylan`s roles: vocals, guitar, harmonica\n",
      "\n",
      "\n",
      "Yep, Nigel Tufnel is in the Spinal Tap band :D\n",
      "Nigel Tufnel`s roles: guitar, vocals, bass, violin, harmonica, clarinet, keyboards, piano\n",
      "\n",
      "\n",
      "Stanislav is not in the Spinal Tap band, sorry :(\n",
      "\n",
      "\n",
      "SOMETHING WENT WRONG, CALL NASA IN 2 DAYS\n"
     ]
    }
   ],
   "source": [
    "# defining dataVerification() fucntion to verify members of the band\n",
    "def dataVerification(name, band):\n",
    "    try: \n",
    "        if name in bands_updated[band]:\n",
    "            print(f\"Yep, {name} is in the {band} band :D\")\n",
    "            print(f\"{name + '`s'} roles:\", f\"{', '.join(bands_updated[band][name])}\")\n",
    "            print('\\n')\n",
    "        else:\n",
    "            print(f\"{name} is not in the {band} band, sorry :(\")\n",
    "    except:\n",
    "        print('\\n')\n",
    "        print(\"something went wrong, call nasa in 2 days\".upper())\n",
    "        \n",
    "dataVerification(\"Bob Dylan\", \"Spinal Tap\")\n",
    "dataVerification(\"Nigel Tufnel\", \"Spinal Tap\")\n",
    "dataVerification(\"Stanislav\", \"Spinal Tap\")\n",
    "dataVerification(\"Stanisla\", \"Spil Tap\")"
   ]
  },
  {
   "cell_type": "markdown",
   "id": "2bd88d43",
   "metadata": {},
   "source": [
    " "
   ]
  },
  {
   "cell_type": "markdown",
   "id": "9b460bae",
   "metadata": {},
   "source": [
    "Now, let's `remove` `specific` `items` from the bands dictionary using the `del` `statement` and update items using the `.pop() method` as shown below. Furthermore, we will add a new member to the band and specify their role. Finally, we will print out all the members of the band, including the newly added member.\n",
    "\n",
    " Helpful links: [Remove Key from Dictionary](https://datagy.io/python-delete-dictionary-key/)"
   ]
  },
  {
   "cell_type": "code",
   "execution_count": 10,
   "id": "104946c1",
   "metadata": {},
   "outputs": [
    {
     "name": "stdout",
     "output_type": "stream",
     "text": [
      "{'Eddie Van Halen': ['guitar'], 'Alex Van Halen': ['drums'], 'Michael Anthony': ['bass'], 'Sammy Hagar': ['vocals']}\n"
     ]
    }
   ],
   "source": [
    "# deleting a member [value] from one of the band`s [key] \n",
    "# using the del statement\n",
    "del bands_updated['Van Halen']['David Lee Roth']\n",
    "\n",
    "# Adding a new member [value] to the band [key] through a new variable,\n",
    "# while specifying their role in the band\n",
    "new_member = {'Sammy Hagar': ['vocals']}\n",
    "bands_updated['Van Halen'].update(new_member)\n",
    "\n",
    "# printing out all the members of the band,\n",
    "# including the new addition\n",
    "print(bands_updated['Van Halen'])"
   ]
  },
  {
   "cell_type": "markdown",
   "id": "094c9f04",
   "metadata": {},
   "source": [
    " "
   ]
  },
  {
   "cell_type": "code",
   "execution_count": 11,
   "id": "aa776f40",
   "metadata": {},
   "outputs": [
    {
     "name": "stdout",
     "output_type": "stream",
     "text": [
      "('Kitty Pryde', {'pet': 'Lockheed', 'alias_name': 'Shadowcat'})\n",
      "('Bruce Wayne', {'pet': 'Ace', 'alias_name': 'Batman'})\n",
      "('Clark Kent', {'pet': 'Krypto', 'alias_name': 'Superman'})\n",
      "('Samuel Wilson', {'pet': 'Redwing', 'alias_name': 'Falcon'})\n",
      "('Logan', {'alias_name': 'Weapon X'})\n"
     ]
    }
   ],
   "source": [
    "for value in superheroes.values():\n",
    "    value['alias_name'] = value.pop('alias')\n",
    "\n",
    "print(*superheroes.items(), sep = '\\n')"
   ]
  },
  {
   "cell_type": "markdown",
   "id": "6c6267f0",
   "metadata": {},
   "source": [
    " "
   ]
  },
  {
   "cell_type": "markdown",
   "id": "9238f77f",
   "metadata": {},
   "source": [
    "#### Modifying data in dictionaries: `combining` data\n",
    "\n",
    "In order to combine data from dictionaries, we can make use of the `.zip()` `function`. It is generally recommended to prioritize `built-in functions` over `intricate flow statements` in practical scenarios. The `.zip()` `function` is well-suited for this particular use case. Let's merge the data of the bands `Buckingham Nicks` and `Fleetwood Mac` for `Fleetwood Mac` upcoming tour.\n",
    "\n",
    " Helpful links: [.zip() Function](https://docs.python.org/3/tutorial/datastructures.html#nested-list-comprehensions), [How to Zip a Dictionary](https://appdividend.com/2022/09/24/python-zip-dictionary/), [RuntimeError: dictionary changed size during iteration](https://bobbyhadz.com/blog/python-runtimeerror-dictionary-changed-size-during-iteration), [Add Key:Value Pair to Dictionary](https://datagy.io/python-dictionary-add-items/)"
   ]
  },
  {
   "cell_type": "markdown",
   "id": "7d60d426",
   "metadata": {},
   "source": [
    " "
   ]
  },
  {
   "cell_type": "code",
   "execution_count": 12,
   "id": "9581dc14",
   "metadata": {},
   "outputs": [
    {
     "name": "stdout",
     "output_type": "stream",
     "text": [
      "Mick Fleetwood\n",
      "John McVie\n",
      "Christine McVie\n",
      "Lindsey Buckingham\n",
      "Stevie Nicks\n"
     ]
    }
   ],
   "source": [
    "# creating and assigning `Buckingham Nicks` band through a new dictionary and variable\n",
    "# using the dict() constructor\n",
    "buckingham_nicks_band = {}\n",
    "artists = ['Lindsey Buckingham', 'Stevie Nicks']\n",
    "roles = ['guitar', 'vocals'], ['vocals', 'tambourine']\n",
    "buckingham_nicks_band['Buckingham Nicks'] = dict(zip(artists, roles))\n",
    "\n",
    "# adding `Buckingham Nicks` band to the 'bands' main dictionary\n",
    "bands_updated.update(buckingham_nicks_band)\n",
    "\n",
    "# assigning both bands through new variables for data manipulation\n",
    "fleetwood_mac_band_tour = bands_updated['Fleetwood Mac'].copy()\n",
    "buckingham_nicks_band_tour = bands_updated['Buckingham Nicks'].copy()\n",
    "\n",
    "# combining both bands\n",
    "tour_bands = zip(buckingham_nicks_band_tour, fleetwood_mac_band_tour)\n",
    "\n",
    "# updating 'Fleetwood Mac' tour band with `Buckingham Nicks` band members\n",
    "bands_updated['Fleetwood Mac'].update(tour_bands)\n",
    "\n",
    "# printing out the final member list of the 'Fleetwood Mac' band tour\n",
    "print(*bands_updated['Fleetwood Mac'], sep = '\\n')"
   ]
  },
  {
   "cell_type": "markdown",
   "id": "b313888c",
   "metadata": {},
   "source": [
    " "
   ]
  },
  {
   "cell_type": "markdown",
   "id": "f10e0dcb",
   "metadata": {},
   "source": [
    "### Workout 3: `Iteration` through `Dictionaries` and data manipulation "
   ]
  },
  {
   "cell_type": "markdown",
   "id": "bc662161",
   "metadata": {},
   "source": [
    " "
   ]
  },
  {
   "cell_type": "markdown",
   "id": "4ae4ee6e",
   "metadata": {},
   "source": [
    "`Iterating` through a dictionary object and separating the iteration into `key-value` pairs is often very beneficial. In this task, you will utilize dictionary iteration using the `items()` `method`. Task Specifications:\n",
    "\n",
    "1. Declare a variable called `data` and initialize it as a `dictionary object`. Assign the provided set of `key-value` pairs.\n",
    "2. Develop a `function` named `iter_dict_funky_sum()` that accepts a single dictionary argument.\n",
    "3. Declare an `integer variable` called `running_total` to keep track of the `cumulative sum`.\n",
    "4. Simultaneously extract the `key-value` pairs from the `data` dictionary within a `loop`. Accomplish this using `only one` `for loop` and `no additional forms of looping`.\n",
    "5. Calculate the `product of the value` `minus` the `key` and `assign` the result to a variable.\n",
    "6. Add the computed value to the `running_total variable`.\n",
    "7. Finally, return the `funky total` (i.e., the `running_total`)\n",
    "8. Expected output: 140166242."
   ]
  },
  {
   "cell_type": "markdown",
   "id": "cfe12da4",
   "metadata": {},
   "source": [
    " "
   ]
  },
  {
   "cell_type": "code",
   "execution_count": 22,
   "id": "4578c570",
   "metadata": {},
   "outputs": [
    {
     "name": "stdout",
     "output_type": "stream",
     "text": [
      "140166242\n"
     ]
    }
   ],
   "source": [
    "# provided set of key-value pairs\n",
    "data = {\n",
    "    2: 7493945,\n",
    "    76: 4654320,\n",
    "    3: 4091979,\n",
    "    90: 1824881,\n",
    "    82: 714422,\n",
    "    45: 1137701,\n",
    "    10: 374362,\n",
    "    0: 326226,\n",
    "    -15: 417203,\n",
    "    -56: 333525,\n",
    "    67: 323451,\n",
    "    99: 321696,\n",
    "    21: 336753,\n",
    "    -100: 361237,\n",
    "    55: 1209714,\n",
    "    5150: 1771800,\n",
    "    42: 4714011,\n",
    "    888: 14817667,\n",
    "    3500: 13760234,\n",
    "    712: 10903322,\n",
    "    7: 10443792,\n",
    "    842: 11716264,\n",
    "    18584: 10559923,\n",
    "    666: 9275602,\n",
    "    70: 11901200,\n",
    "    153: 12074784,\n",
    "    8: 4337229\n",
    "}\n",
    "\n",
    "# defining the iter_dict_funky_sum() fuction using specifications above\n",
    "def iter_dict_funky_sum(data):\n",
    "    running_total = 0\n",
    "    for key, value in data.items():\n",
    "        running_total = running_total + value - key\n",
    "    return running_total\n",
    "\n",
    "funky_total = iter_dict_funky_sum(data)\n",
    "print(funky_total)"
   ]
  },
  {
   "cell_type": "markdown",
   "id": "bda57651",
   "metadata": {},
   "source": [
    " "
   ]
  },
  {
   "cell_type": "markdown",
   "id": "6fa4607f",
   "metadata": {},
   "source": [
    " "
   ]
  },
  {
   "cell_type": "markdown",
   "id": "664caef1",
   "metadata": {},
   "source": [
    "### References"
   ]
  },
  {
   "cell_type": "markdown",
   "id": "c2dd5037",
   "metadata": {},
   "source": [
    "Lutz, M. (2013). *Learning Python (5th ed.)*. O'Reilly Media. https://www.oreilly.com/library/view/learning-python-5th/9781449355722/"
   ]
  }
 ],
 "metadata": {
  "kernelspec": {
   "display_name": "Python 3 (ipykernel)",
   "language": "python",
   "name": "python3"
  },
  "language_info": {
   "codemirror_mode": {
    "name": "ipython",
    "version": 3
   },
   "file_extension": ".py",
   "mimetype": "text/x-python",
   "name": "python",
   "nbconvert_exporter": "python",
   "pygments_lexer": "ipython3",
   "version": "3.10.9"
  }
 },
 "nbformat": 4,
 "nbformat_minor": 5
}

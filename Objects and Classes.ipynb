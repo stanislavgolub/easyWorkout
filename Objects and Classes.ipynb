{
 "cells": [
  {
   "cell_type": "markdown",
   "id": "5699362b",
   "metadata": {},
   "source": [
    "# Objects and Classes"
   ]
  },
  {
   "cell_type": "markdown",
   "id": "959b4493",
   "metadata": {},
   "source": [
    " "
   ]
  },
  {
   "cell_type": "markdown",
   "id": "bcfae9c0",
   "metadata": {},
   "source": [
    "This `easyWorkout` will introduce Python's classes and allow you to utilize them in separate scenarios to gain an understanding of their functioning.\n",
    "\n",
    "Helpful links: [Classes](https://docs.python.org/3.10/tutorial/classes.html)"
   ]
  },
  {
   "cell_type": "markdown",
   "id": "42b38e2e",
   "metadata": {},
   "source": [
    " "
   ]
  },
  {
   "cell_type": "markdown",
   "id": "c3db87d4",
   "metadata": {},
   "source": [
    " ### Workout 1: `Instantiating` and `accessing` custom `class instances`"
   ]
  },
  {
   "cell_type": "markdown",
   "id": "46d78962",
   "metadata": {},
   "source": [
    " "
   ]
  },
  {
   "cell_type": "markdown",
   "id": "3c43baab",
   "metadata": {},
   "source": [
    "We have previously used `classes` like the `Decimal()` class, which means that we have already created `instances of classes`. Now, you will `create` and `access` `instances` of custom classes based on the following specifications:\n",
    "\n",
    "1. Import the `produce` module.\n",
    "2. Create two instances of the `Produce()` class:\n",
    " - The `first instance` should not have any `constructor variables` (nothing inside the `()`) and `should be assigned` to a `variable` called `tomato`.\n",
    " - The `second instance` should be named `eggplant`, and the constructor should be passed the value `1311210802`.\n",
    "3. Access the `arrival` `attribute` of the `tomato` `instance` and save it to a variable named `tomato_arrival`.\n",
    "4. Call the `get_expiration()` method of the `eggplant` instance and `save the result` to a variable named `eggplant_expires`."
   ]
  },
  {
   "cell_type": "markdown",
   "id": "0b69e663",
   "metadata": {},
   "source": [
    " "
   ]
  },
  {
   "cell_type": "code",
   "execution_count": 1,
   "id": "1679f9d1",
   "metadata": {},
   "outputs": [
    {
     "name": "stdout",
     "output_type": "stream",
     "text": [
      "['/Users/stanislav/Desktop/Coding /easyWorkout', '/Users/stanislav/anaconda3/lib/python310.zip', '/Users/stanislav/anaconda3/lib/python3.10', '/Users/stanislav/anaconda3/lib/python3.10/lib-dynload', '', '/Users/stanislav/anaconda3/lib/python3.10/site-packages', '/Users/stanislav/anaconda3/lib/python3.10/site-packages/PyQt5_sip-12.11.0-py3.10-macosx-10.9-x86_64.egg', '/Users/stanislav/anaconda3/lib/python3.10/site-packages/aeosa', '/Users/stanislav/anaconda3/lib/python3.10/site-packages/mpmath-1.2.1-py3.10.egg', '/Users/stanislav/anaconda3/lib/python3.10/site-packages/pycurl-7.45.1-py3.10-macosx-10.9-x86_64.egg', '/Users/stanislav/Desktop']\n"
     ]
    }
   ],
   "source": [
    "import sys\n",
    "\"\"\"\n",
    "Description:\n",
    "\n",
    "    This module provides access to some variables used or maintained by the interpreter and to functions'\n",
    "    that interact strongly with the interpreter.\n",
    "\n",
    "\"\"\"\n",
    "\n",
    "# adding a specific path for an interpreter to search.\n",
    "sys.path.append(\"/Users/stanislav/Desktop\")\n",
    "\n",
    "# printing all directories for interpreter to search\n",
    "print(sys.path)"
   ]
  },
  {
   "cell_type": "markdown",
   "id": "8d3c5734",
   "metadata": {},
   "source": [
    " "
   ]
  },
  {
   "cell_type": "code",
   "execution_count": 2,
   "id": "b7814daf",
   "metadata": {},
   "outputs": [
    {
     "data": {
      "text/plain": [
       "'\\n#!/usr/bin/env python\\n# -*- coding: utf-8 -*-\\n\"\"\"Starter data module\"\"\"\\n\\n\\n# Python libs\\nimport time\\n\\n\\nclass Produce(object):\\n    \"\"\"A generic produce class.\\n\\n    Stores the arrival time and estimated shelf-life of the produce.\\n\\n    Args:\\n        arrival (numeric, optional): The time the produce arrived. Defaults to\\n            the current timestamp.\\n\\n    Attributes:\\n        arrival (numeric): The time the produce arrived in a Unix timestamp.\\n        duration (numeric): The shelf life of the produce.\\n    \"\"\"\\n    duration = 604800\\n\\n    def __init__(self, arrival = None):\\n        if arrival is None:\\n            arrival = int(time.time())\\n\\n        self.arrival = arrival\\n\\n    def get_expiration(self):\\n        \"\"\"Returns the expiration timestamp of the produce.\\n\\n        Returns:\\n            integer: The expiration timestamp of the produce.\\n\\n        Examples:\\n\\n            >>> myprod = Produce(0)\\n            >>> myprod.get_expiration()\\n            604800\\n        \"\"\"\\n        return self.arrival + self.duration\\n\\n    def is_expired(self, checktime = None):\\n        \"\"\"Returns whether or not the produce has exprired.\\n\\n        Args:\\n            checktime (integer, optional): A unix timestamp to check. Defaults\\n            to the current timestamp.\\n\\n        Returns:\\n            boolean: Returns ``True`` if it has already expired or ``False`` if\\n                not.\\n\\n        Examples:\\n\\n            >>> myprod = Produce()\\n            >>> myprod.is_expired()\\n            False\\n\\n            >>> myprod = Produce(0)\\n            >>> myprod.is_expired()\\n            True\\n        \"\"\"\\n        if checktime is None:\\n            checktime = int(time.time())\\n        return False if checktime < self.get_expiration() else True\\n'"
      ]
     },
     "execution_count": 2,
     "metadata": {},
     "output_type": "execute_result"
    }
   ],
   "source": [
    "# importing the 'produce' module from the 'task_11' package\n",
    "from task_11 import produce\n",
    "\n",
    "# showing how the 'produce' module looks like inside\n",
    "'''\n",
    "#!/usr/bin/env python\n",
    "# -*- coding: utf-8 -*-\n",
    "\"\"\"Starter data module\"\"\"\n",
    "\n",
    "\n",
    "# Python libs\n",
    "import time\n",
    "\n",
    "\n",
    "class Produce(object):\n",
    "    \"\"\"A generic produce class.\n",
    "\n",
    "    Stores the arrival time and estimated shelf-life of the produce.\n",
    "\n",
    "    Args:\n",
    "        arrival (numeric, optional): The time the produce arrived. Defaults to\n",
    "            the current timestamp.\n",
    "\n",
    "    Attributes:\n",
    "        arrival (numeric): The time the produce arrived in a Unix timestamp.\n",
    "        duration (numeric): The shelf life of the produce.\n",
    "    \"\"\"\n",
    "    duration = 604800\n",
    "\n",
    "    def __init__(self, arrival = None):\n",
    "        if arrival is None:\n",
    "            arrival = int(time.time())\n",
    "\n",
    "        self.arrival = arrival\n",
    "\n",
    "    def get_expiration(self):\n",
    "        \"\"\"Returns the expiration timestamp of the produce.\n",
    "\n",
    "        Returns:\n",
    "            integer: The expiration timestamp of the produce.\n",
    "\n",
    "        Examples:\n",
    "\n",
    "            >>> myprod = Produce(0)\n",
    "            >>> myprod.get_expiration()\n",
    "            604800\n",
    "        \"\"\"\n",
    "        return self.arrival + self.duration\n",
    "\n",
    "    def is_expired(self, checktime = None):\n",
    "        \"\"\"Returns whether or not the produce has exprired.\n",
    "\n",
    "        Args:\n",
    "            checktime (integer, optional): A unix timestamp to check. Defaults\n",
    "            to the current timestamp.\n",
    "\n",
    "        Returns:\n",
    "            boolean: Returns ``True`` if it has already expired or ``False`` if\n",
    "                not.\n",
    "\n",
    "        Examples:\n",
    "\n",
    "            >>> myprod = Produce()\n",
    "            >>> myprod.is_expired()\n",
    "            False\n",
    "\n",
    "            >>> myprod = Produce(0)\n",
    "            >>> myprod.is_expired()\n",
    "            True\n",
    "        \"\"\"\n",
    "        if checktime is None:\n",
    "            checktime = int(time.time())\n",
    "        return False if checktime < self.get_expiration() else True\n",
    "'''"
   ]
  },
  {
   "cell_type": "markdown",
   "id": "9c18a38b",
   "metadata": {},
   "source": [
    " "
   ]
  },
  {
   "cell_type": "code",
   "execution_count": 3,
   "id": "6151f09f",
   "metadata": {},
   "outputs": [
    {
     "name": "stdout",
     "output_type": "stream",
     "text": [
      "Tomatoes arrived on 1689197240 and expire on 1689802040. Is expired: False.\n",
      "Eggplants arrived on 1311210802 and expire on 1311815602. Is expired: True.\n"
     ]
    }
   ],
   "source": [
    "# assigning the first instance of the 'Produce()' class, named 'tomato',\n",
    "# without a value in the constructor\n",
    "tomato = produce.Produce()\n",
    "\n",
    "# assigning the second instance of the 'Produce()' class, named 'eggplant', \n",
    "# with a value in the constructor\n",
    "eggplant = produce.Produce(1311210802)\n",
    "\n",
    "# accessing the 'arrival' attribute of the 'tomato' instance \n",
    "# and saving it to a variable\n",
    "tomato_arrival = tomato.arrival\n",
    "\n",
    "# accessing the 'is_expired()' method of the 'Produce()' class \n",
    "# and saving the result to a variable\n",
    "tomato_expires = tomato.get_expiration()\n",
    "\n",
    "# accessing the 'get_expiration()' method of the 'Produce()' class \n",
    "# and saving the result to a variable\n",
    "tomato_is_expired = tomato.is_expired()\n",
    "\n",
    "# accessing the 'arrival' attribute of the 'eggplant' instance \n",
    "# and saving it to a variable\n",
    "eggplant_arrival = eggplant.arrival\n",
    "\n",
    "# accessing the `get_expiration()` method of the 'Produce()' class\n",
    "# and saving it to a variable\n",
    "eggplant_expires = eggplant.get_expiration()\n",
    "\n",
    "# accessing the 'is_expired()' method of the 'Produce()' class \n",
    "# and saving the result to a variable\n",
    "eggplant_is_expired = eggplant.is_expired()\n",
    "\n",
    "# printing out the results of the data expiration process\n",
    "print(f\"Tomatoes arrived on {tomato_arrival} and expire on {tomato_expires}. Is expired: {tomato_is_expired}.\")\n",
    "print(f\"Eggplants arrived on {eggplant_arrival} and expire on {eggplant_expires}. Is expired: {eggplant_is_expired}.\")"
   ]
  },
  {
   "cell_type": "markdown",
   "id": "0bd86660",
   "metadata": {},
   "source": [
    " "
   ]
  },
  {
   "cell_type": "markdown",
   "id": "34522f9d",
   "metadata": {},
   "source": [
    "Now, let's verify that both the `tomato` and `eggplant` objects are `instances` of the `Produce() class` using the `isinstance() function`. We can check if `tomato` is an instance of `Produce` using `isinstance(tomato, Produce)`, and if `eggplant` is an instance of Produce using `isinstance(eggplant, Produce)`. The `isinstance() function` returns `True` if the `obj.__class__` matches the specified class, and `False` otherwise."
   ]
  },
  {
   "cell_type": "code",
   "execution_count": 4,
   "id": "dc7577a1",
   "metadata": {},
   "outputs": [
    {
     "name": "stdout",
     "output_type": "stream",
     "text": [
      "True\n",
      "True\n"
     ]
    }
   ],
   "source": [
    "print(isinstance(tomato, produce.Produce))\n",
    "print(isinstance(eggplant, produce.Produce))"
   ]
  },
  {
   "cell_type": "markdown",
   "id": "917f62a0",
   "metadata": {},
   "source": [
    " "
   ]
  },
  {
   "cell_type": "markdown",
   "id": "aa6ce0ca",
   "metadata": {},
   "source": [
    "### Workout 2:  Creating a `class` from the ground-up / defining a `class` with an `instance attribute`"
   ]
  },
  {
   "cell_type": "markdown",
   "id": "71ba313c",
   "metadata": {},
   "source": [
    " "
   ]
  },
  {
   "cell_type": "markdown",
   "id": "50226112",
   "metadata": {},
   "source": [
    "In this task, we will create our own `class` from scratch. Here are the specifications:\n",
    "\n",
    "1. Import the `time module`. This module contains functions related to time operations. We will utilize its `time() function`, which returns a `Unix Timestamp`\n",
    "2. Define a class called `Snapshot`\n",
    "3. Create a `constructor` for the `Snapshot class`\n",
    "4. Inside the constructor, create an `instance attribute` named `created` and assign it the `current Unix Timestamp` using the `time.time()` function\n",
    "\n",
    "#### Tip:\n",
    "\n",
    "When creating classes `without an explicit parent class`, it is recommended to `subclass` them from the generic `object` class."
   ]
  },
  {
   "cell_type": "markdown",
   "id": "6b6b7500",
   "metadata": {},
   "source": [
    " "
   ]
  },
  {
   "cell_type": "code",
   "execution_count": 5,
   "id": "ebadae33",
   "metadata": {},
   "outputs": [
    {
     "name": "stdout",
     "output_type": "stream",
     "text": [
      "True\n",
      "True\n"
     ]
    },
    {
     "data": {
      "text/plain": [
       "'\\nDescription:\\n\\n    The arguments are a class and a classinfo.\\n\\n    Return `True` if class is a subclass (direct, indirect, or virtual) of classinfo. \\n    A class is considered a subclass of itself.\\n\\n'"
      ]
     },
     "execution_count": 5,
     "metadata": {},
     "output_type": "execute_result"
    }
   ],
   "source": [
    "# importing the time module\n",
    "import time\n",
    "\n",
    "# defining a class called `Snapshot`\n",
    "class Snapshot(object):\n",
    "    # creating a constructor for the `Snapshot` class\n",
    "    def __init__(self):\n",
    "        # creating an instance attribute(variable) and assigning it to \n",
    "        # the current Unix Timestamp using the time.time() function\n",
    "        self.created = time.time()\n",
    "\n",
    "# creating an instance of the 'Snapshot' class\n",
    "mysnap = Snapshot()\n",
    "\n",
    "# determining whether a specific attribute exists in an object before \n",
    "# performing any operations on it using the hasattr(object, name) function.\n",
    "print(hasattr(mysnap, 'created'))\n",
    "\"\"\"\n",
    "Description: \n",
    "\n",
    "    The arguments are an object and a string.\n",
    "    \n",
    "    The result is `True` if the string is the name of one of the object’s attributes, \n",
    "    `False` if not.\n",
    "\n",
    "\"\"\"\n",
    "\n",
    "# verifying if 'Snapshot' class is subclassed from the generic 'objec' class.\n",
    "print(issubclass(Snapshot, object))\n",
    "\"\"\"\n",
    "Description:\n",
    "\n",
    "    The arguments are a class and a classinfo.\n",
    "\n",
    "    Return `True` if class is a subclass (direct, indirect, or virtual) of classinfo. \n",
    "    A class is considered a subclass of itself.\n",
    "\n",
    "\"\"\""
   ]
  },
  {
   "cell_type": "markdown",
   "id": "ba062286",
   "metadata": {},
   "source": [
    " "
   ]
  },
  {
   "cell_type": "markdown",
   "id": "20ccfc48",
   "metadata": {},
   "source": [
    "### Workout 3: `Subclassing` an existing `class`"
   ]
  },
  {
   "cell_type": "markdown",
   "id": "e175727f",
   "metadata": {},
   "source": [
    " "
   ]
  },
  {
   "cell_type": "markdown",
   "id": "1cdc99e1",
   "metadata": {},
   "source": [
    "`Subclassing` is a fundamental aspect of `object-oriented programming`, integral to its essence. In this scenario, we will create a `subclass` that `modifies the properties` of an `existing class`. Here are the specifications:\n",
    "\n",
    "1. Import the module called `produce`\n",
    "2. Define a fresh `class` called `Apple` which `inherits` from the `class` `produce.Produce`\n",
    "3. Modify the class attribute named `duration` and set it to a new value of `5356800`\n",
    "4. Do the same for the `expiredEggplant` class, but set it's duration to `0`"
   ]
  },
  {
   "cell_type": "markdown",
   "id": "cfe12da4",
   "metadata": {},
   "source": [
    " "
   ]
  },
  {
   "cell_type": "code",
   "execution_count": 6,
   "id": "9626a17d",
   "metadata": {},
   "outputs": [
    {
     "name": "stdout",
     "output_type": "stream",
     "text": [
      "Apple's arrival time: 1311210802\n",
      "Apple's duration time: 5356800\n",
      "Apple's expiration time: 1316567602\n",
      "Expired: True \n",
      "\n",
      "Eggplant's arrival time: 1689197240\n",
      "Eggplant's duration time: 0\n",
      "Eggplant's expiration time: 1689197240\n",
      "Expired: True\n"
     ]
    }
   ],
   "source": [
    "from task_11 import produce\n",
    "\n",
    "class Apple(produce.Produce):\n",
    "    duration = 5356800\n",
    "    \"\"\"\n",
    "    Expected Output:\n",
    "\n",
    "        >>> print(Apple.duration)\n",
    "            5356800\n",
    "        >>> print(produce.Produce.duration)\n",
    "            604800\n",
    "    \"\"\"\n",
    "    \n",
    "class ExpiredEggplant(produce.Produce):\n",
    "    duration = 0\n",
    "    \"\"\"\n",
    "    Expected Output:\n",
    "\n",
    "        >>> print(Eggplant.duration)\n",
    "            0\n",
    "        >>> print(produce.Produce.duration)\n",
    "            604800\n",
    "    \"\"\"\n",
    "\n",
    "print(f\"Apple's arrival time: {Apple(1311210802).arrival}\")\n",
    "print(f\"Apple's duration time: {Apple.duration}\")\n",
    "print(f\"Apple's expiration time: {Apple(1311210802).get_expiration()}\")\n",
    "print(f\"Expired: {Apple(1311210802).is_expired()}\", '\\n')\n",
    "print(f\"Eggplant's arrival time: {ExpiredEggplant().arrival}\")\n",
    "print(f\"Eggplant's duration time: {ExpiredEggplant.duration}\")\n",
    "print(f\"Eggplant's expiration time: {ExpiredEggplant().get_expiration()}\")\n",
    "print(f\"Expired: {ExpiredEggplant().is_expired()}\")"
   ]
  },
  {
   "cell_type": "markdown",
   "id": "b1a6386d",
   "metadata": {},
   "source": [
    " "
   ]
  },
  {
   "cell_type": "markdown",
   "id": "6192fdde",
   "metadata": {},
   "source": [
    "### Workout 4: `Subclassing`: the `has-a` and `is-a` concepts"
   ]
  },
  {
   "cell_type": "markdown",
   "id": "f27ec66f",
   "metadata": {},
   "source": [
    " "
   ]
  },
  {
   "cell_type": "markdown",
   "id": "2e95e1cc",
   "metadata": {},
   "source": [
    "In this exercise, we will explore the concepts of `has-a` and `is-a` by utilizing `subclassing`. We will delve into the `car module` and `extend` the `functionality` of the existing `Car()` class. Here are the specifications:\n",
    "\n",
    "1. Import the `car module`\n",
    "2. Define a class called `CustomCar()`, which is a `subclass` of `car.Car`\n",
    "3. Define a class called `CustomTire()`, which is a `subclass` of `car.Tire`\n",
    "4. `Override` the `inherited class constructor` in `CustomCar()`. Inside the override, invoke the constructor of `Car()` by `calling it as a class method` rather than an `instance method`. The following snippet demonstrates this construction: `car.Car.__init__(self, color)`. This step invokes the constructor to perform its tasks, but instead of creating a new instance of `car.Car()`, we provide the current instance of `CustomCar()` `as self`.\n",
    "\n",
    "To further enhance `CustomCar()`, follow these steps:\n",
    "\n",
    "5. Introduce an additional `argument`, `tires`, to the `CustomCar()` constructor\n",
    "- Typically, this argument should be a `list` of `CustomTire()` `objects`\n",
    "- The `default value` of this argument should be `None`.\n",
    "6. Create a `new instance attribute` in `CustomCar()` called tires, which will store the `list` of tires.\n",
    "- `Assign` the value of the `tires argument` to this new instance attribute.\n",
    "- If the value of the `tires` argument is `None`:\n",
    "- I. `Create` an `empty list`.\n",
    "- II. Instantiate four new instances of the `CustomTire()` `class` and `append` each one to `the list`.\n",
    "7. Enhance the `CustomTire()` class by adding a `pseudo-private class` `attribute` called `__maximum_miles`, which should be assigned a value of `500`.\n",
    "8. Test the functionality of your `CustomCar()` class by verifying that it works correctly with both the tires argument and without it."
   ]
  },
  {
   "cell_type": "markdown",
   "id": "fc72938b",
   "metadata": {},
   "source": [
    " "
   ]
  },
  {
   "cell_type": "code",
   "execution_count": 7,
   "id": "8e02dcbf",
   "metadata": {},
   "outputs": [
    {
     "data": {
      "text/plain": [
       "'\\n#!/usr/bin/env python\\n# -*- coding: utf-8 -*-\\n\"\"\"Contains the car class.\"\"\"\\n\\n\\nclass Car(object):\\n    \"\"\"A moving vehicle definition.\"\"\"\\n\\n    def __init__(self, color = \\'red\\'):\\n        \"\"\"Constructor for the Car() class.\\n        Args:\\n            color (string): The color of the car. Defaults to ``\\'red\\'``.\\n        Attributes:\\n            color (string): The color of the car.\\n        \"\"\"\\n        self.color = color\\n\\n\\nclass Tire(object):\\n    \"\"\"A round rubber thing.\"\"\"\\n\\n    def __init__(self, miles = 0):\\n        \"\"\"Constructor for the Tire() class.\\n        Args:\\n            miles (integer): The number of miles on the Tire. Defaults to 0.\\n        Attributes:\\n            miles (integer): The number of miles on the Tire.\\n        \"\"\"\\n        self.miles = miles\\n\\n    def add_miles(self, miles):\\n        \"\"\"Increments the tire mileage by the specified miles.\\n        Args:\\n            miles (integer): The number of miles to add to the tire.\\n        \"\"\"\\n        self.miles += miles\\n'"
      ]
     },
     "execution_count": 7,
     "metadata": {},
     "output_type": "execute_result"
    }
   ],
   "source": [
    "# importing the 'car' module + from the 'task_11' package\n",
    "from task_11 import car\n",
    "\n",
    "# importing the 'Car' class from the 'car' module \n",
    "from task_11.car import Car\n",
    "\n",
    "# importing the 'Tire' class from the ' car' module \n",
    "from task_11.car import Tire\n",
    "\n",
    "# showing how the 'car' module looks like inside\n",
    "'''\n",
    "#!/usr/bin/env python\n",
    "# -*- coding: utf-8 -*-\n",
    "\"\"\"Contains the car class.\"\"\"\n",
    "\n",
    "\n",
    "class Car(object):\n",
    "    \"\"\"A moving vehicle definition.\"\"\"\n",
    "\n",
    "    def __init__(self, color = 'red'):\n",
    "        \"\"\"Constructor for the Car() class.\n",
    "        Args:\n",
    "            color (string): The color of the car. Defaults to ``'red'``.\n",
    "        Attributes:\n",
    "            color (string): The color of the car.\n",
    "        \"\"\"\n",
    "        self.color = color\n",
    "\n",
    "\n",
    "class Tire(object):\n",
    "    \"\"\"A round rubber thing.\"\"\"\n",
    "\n",
    "    def __init__(self, miles = 0):\n",
    "        \"\"\"Constructor for the Tire() class.\n",
    "        Args:\n",
    "            miles (integer): The number of miles on the Tire. Defaults to 0.\n",
    "        Attributes:\n",
    "            miles (integer): The number of miles on the Tire.\n",
    "        \"\"\"\n",
    "        self.miles = miles\n",
    "\n",
    "    def add_miles(self, miles):\n",
    "        \"\"\"Increments the tire mileage by the specified miles.\n",
    "        Args:\n",
    "            miles (integer): The number of miles to add to the tire.\n",
    "        \"\"\"\n",
    "        self.miles += miles\n",
    "'''"
   ]
  },
  {
   "cell_type": "markdown",
   "id": "4f270256",
   "metadata": {},
   "source": [
    " "
   ]
  },
  {
   "cell_type": "code",
   "execution_count": 8,
   "id": "79f776f7",
   "metadata": {},
   "outputs": [
    {
     "name": "stdout",
     "output_type": "stream",
     "text": [
      "red\n",
      "4\n",
      "True \n",
      "\n",
      "red\n",
      "5\n",
      "True\n"
     ]
    }
   ],
   "source": [
    "class CustomCar(car.Car):\n",
    "    def __init__(self, tires = None):\n",
    "        car.Car.__init__(self)\n",
    "        if tires is None:\n",
    "            tires = [CustomTire() for tire in range(4)]\n",
    "        self.tires = tires    \n",
    "        \n",
    "class CustomTire(car.Tire):\n",
    "    __maximum_miles = 500\n",
    "    def __init__(self):\n",
    "        pass\n",
    "\n",
    "mycar = CustomCar()\n",
    "\n",
    "print(mycar.color)\n",
    "print(len(mycar.tires))\n",
    "print(isinstance(mycar.tires[0], CustomTire), '\\n')\n",
    "\n",
    "# adding another tire\n",
    "tire_add = CustomTire()\n",
    "mycar.tires.append(tire_add)\n",
    "\n",
    "print(mycar.color)\n",
    "print(len(mycar.tires))\n",
    "print(isinstance(mycar.tires[0], CustomTire))"
   ]
  },
  {
   "cell_type": "markdown",
   "id": "ab4478a9",
   "metadata": {},
   "source": [
    " "
   ]
  },
  {
   "cell_type": "markdown",
   "id": "664caef1",
   "metadata": {},
   "source": [
    "### References"
   ]
  },
  {
   "cell_type": "markdown",
   "id": "c2dd5037",
   "metadata": {},
   "source": [
    "Lutz, M. (2013). *Learning Python (5th ed.)*. O'Reilly Media. https://www.oreilly.com/library/view/learning-python-5th/9781449355722/"
   ]
  }
 ],
 "metadata": {
  "kernelspec": {
   "display_name": "Python 3 (ipykernel)",
   "language": "python",
   "name": "python3"
  },
  "language_info": {
   "codemirror_mode": {
    "name": "ipython",
    "version": 3
   },
   "file_extension": ".py",
   "mimetype": "text/x-python",
   "name": "python",
   "nbconvert_exporter": "python",
   "pygments_lexer": "ipython3",
   "version": "3.10.9"
  }
 },
 "nbformat": 4,
 "nbformat_minor": 5
}

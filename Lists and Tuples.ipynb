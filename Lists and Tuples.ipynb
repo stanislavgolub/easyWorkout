{
 "cells": [
  {
   "cell_type": "markdown",
   "id": "5699362b",
   "metadata": {},
   "source": [
    "# Lists and Tuples"
   ]
  },
  {
   "cell_type": "markdown",
   "id": "959b4493",
   "metadata": {},
   "source": [
    " "
   ]
  },
  {
   "cell_type": "markdown",
   "id": "bcfae9c0",
   "metadata": {},
   "source": [
    "Let's cover the fundamentals of creating lists and tuples, along with an overview of important functions related to lists.\n",
    "\n",
    "Helpful links: [The For Loop](https://docs.python.org/2/tutorial/controlflow.html#for-statements), [Lists](https://docs.python.org/2/tutorial/introduction.html#lists), [Data Structures](https://docs.python.org/2/tutorial/datastructures.html)"
   ]
  },
  {
   "cell_type": "markdown",
   "id": "42b38e2e",
   "metadata": {},
   "source": [
    " "
   ]
  },
  {
   "cell_type": "markdown",
   "id": "c3db87d4",
   "metadata": {},
   "source": [
    " ### Workout 1: Defining a Tuple and a List"
   ]
  },
  {
   "cell_type": "markdown",
   "id": "46d78962",
   "metadata": {},
   "source": [
    " "
   ]
  },
  {
   "cell_type": "markdown",
   "id": "3c43baab",
   "metadata": {},
   "source": [
    "Create a list and a tuple by using their conventional constructors. Instructions:\n",
    "\n",
    "Define a constant called `cars` and initialize it with a `tuple()` containing the following data in the specified order:\n",
    "\n",
    "1. None (the Python constant, not a string)\n",
    "2. Pontiac\n",
    "3. Audi\n",
    "4. Lambo\n",
    "5. Freightliner\n",
    "6. Volvo\n",
    "7. Chevy\n",
    "\n",
    "Create a `list` named `operations_order` and assign it the following data in the given order:\n",
    "\n",
    "1. Parentheses\n",
    "2. Exponents\n",
    "3. Multiplication\n",
    "4. Division\n",
    "5. Addition\n",
    "6. Subtraction\n",
    "\n",
    "Print the results as shown below."
   ]
  },
  {
   "cell_type": "markdown",
   "id": "0b69e663",
   "metadata": {},
   "source": [
    " "
   ]
  },
  {
   "cell_type": "code",
   "execution_count": 1,
   "id": "1679f9d1",
   "metadata": {},
   "outputs": [
    {
     "name": "stdout",
     "output_type": "stream",
     "text": [
      "(None, 'Pontiac', 'Audi', 'Lambo', 'Freightliner', 'Volvo', 'Chevy')\n",
      "['Parentheses', 'Exponents', 'Multiplication', 'Division', 'Addition', 'Subtraction']\n"
     ]
    }
   ],
   "source": [
    "cars = (None, 'Pontiac', 'Audi', 'Lambo', 'Freightliner', 'Volvo', 'Chevy')\n",
    "operations_order = ['Parentheses', 'Exponents', 'Multiplication', 'Division', 'Addition', 'Subtraction']\n",
    "\n",
    "print(cars)\n",
    "print(operations_order)"
   ]
  },
  {
   "cell_type": "markdown",
   "id": "8de88fb4",
   "metadata": {},
   "source": [
    " "
   ]
  },
  {
   "cell_type": "markdown",
   "id": "6f7e52ea",
   "metadata": {},
   "source": [
    "### Workout 2: `for` Loop"
   ]
  },
  {
   "cell_type": "markdown",
   "id": "8d3c5734",
   "metadata": {},
   "source": [
    " "
   ]
  },
  {
   "cell_type": "markdown",
   "id": "07beab34",
   "metadata": {},
   "source": [
    "`Iterating` through `lists` using a `for loop` is an `effective` and `straightforward` approach for handling `large sets` of data simultaneously. In this case, we will apply this concept to our `data` module. Specifications:\n",
    "\n",
    "1. Define a new function called `process_data()` that accepts a `single` argument: `data` (a list or tuple of numbers)\n",
    "2. Utilize a `for loop` to iterate over the data and `return` a `tuple` containing the following data points in the specified order:\n",
    "a) The `total sum` of the `data`.\n",
    "b) The `average` of the data with `floating-point` precision.\n",
    "3. Execute the function as indicated in the \"Expected Output\" section.\n",
    "\n",
    "#### Hints:\n",
    "\n",
    "To minimize repetition, `avoid duplicating` code, even within a loop. Remember that repeating code inside a loop is still considered repetition. Create a variable for the `total` `sum` `outside the loop` so that it can be incremented within the loop as it processes the data."
   ]
  },
  {
   "cell_type": "markdown",
   "id": "9c18a38b",
   "metadata": {},
   "source": [
    " "
   ]
  },
  {
   "cell_type": "code",
   "execution_count": 2,
   "id": "6151f09f",
   "metadata": {},
   "outputs": [
    {
     "data": {
      "text/plain": [
       "(21, 3.5)"
      ]
     },
     "execution_count": 2,
     "metadata": {},
     "output_type": "execute_result"
    }
   ],
   "source": [
    "# standard 'for loop' construction \n",
    "def process_data(data):\n",
    "    total = 0\n",
    "    for values in data:\n",
    "        total += values\n",
    "        average = total / len(data)\n",
    "    return total, float(average)\n",
    "\n",
    "process_data([1, 2, 3, 4, 5, 6])"
   ]
  },
  {
   "cell_type": "code",
   "execution_count": 3,
   "id": "fef20d76",
   "metadata": {},
   "outputs": [
    {
     "data": {
      "text/plain": [
       "(21, 3.5)"
      ]
     },
     "execution_count": 3,
     "metadata": {},
     "output_type": "execute_result"
    }
   ],
   "source": [
    "# using sum() method and list comprehention \n",
    "def process_data(data):\n",
    "    return sum(data), float(sum(data) / len(data))\n",
    "\n",
    "process_data([1, 2, 3, 4, 5, 6])"
   ]
  },
  {
   "cell_type": "markdown",
   "id": "0bd86660",
   "metadata": {},
   "source": [
    " "
   ]
  },
  {
   "cell_type": "markdown",
   "id": "aa6ce0ca",
   "metadata": {},
   "source": [
    "### Workout 3:  Mutability Differences"
   ]
  },
  {
   "cell_type": "markdown",
   "id": "71ba313c",
   "metadata": {},
   "source": [
    " "
   ]
  },
  {
   "cell_type": "markdown",
   "id": "50226112",
   "metadata": {},
   "source": [
    "Let's explore the `differences` in `mutability` between `strings` and `tuples`. The task requires using the same Jupyter notebook and creating a function called `flip_keys()`. This function takes one argument, a list named `to_flip`, which contains `nested`, `immutable` sequences such as [(1, 2, 3), 'hello'].\n",
    "\n",
    "To achieve the goal, we will employ a `for` loop to `traverse the list` and `reverse the order` of the inner sequences. It's important to note that all operations on the outer list should directly modify the original object, utilizing its `mutability`, while the inner elements are immutable and will require replacement.\n",
    "\n",
    "Upon completion, the function should return the `original list with its inner elements reversed`. To test the function, we will run the provided test and display the expected output in the Jupyter notebook.\n",
    "\n",
    "#### Hint: \n",
    "\n",
    "To access or change the value of a list, we can use `indexing`, as demonstrated in `Workout 2`. Additionally, to modify the values in `to_flip`, we can create a `counter variable` and increment it within the loop to `keep track of the index`. Considering this, the counter will represent the `index` of the current element being processed. By the end of the loop, `counter == len(iterable_object)` will hold `true`.\n",
    "\n",
    "Regarding reversing a tuple, we can refer back to an earlier assignment when we `reversed` a string using the `slice syntax` for inspiration."
   ]
  },
  {
   "cell_type": "markdown",
   "id": "6b6b7500",
   "metadata": {},
   "source": [
    " "
   ]
  },
  {
   "cell_type": "code",
   "execution_count": 4,
   "id": "ebadae33",
   "metadata": {},
   "outputs": [
    {
     "name": "stdout",
     "output_type": "stream",
     "text": [
      "True\n",
      "[(3, 2, 1), 'olleh']\n"
     ]
    }
   ],
   "source": [
    "# standard 'for loop' construction \n",
    "def flip_keys(to_flip):\n",
    "    value = 0\n",
    "    for values in range(len(to_flip)):\n",
    "        to_flip[value] = to_flip[value][::-1]\n",
    "        value += 1\n",
    "    return to_flip\n",
    "\n",
    "data = [(1, 2, 3), 'hello']\n",
    "data_flipped = flip_keys(data)\n",
    "print(data is data_flipped)\n",
    "print(data_flipped)"
   ]
  },
  {
   "cell_type": "code",
   "execution_count": 5,
   "id": "809c77ae",
   "metadata": {},
   "outputs": [
    {
     "name": "stdout",
     "output_type": "stream",
     "text": [
      "False\n",
      "[(3, 2, 1), 'olleh']\n"
     ]
    }
   ],
   "source": [
    "# using 'slice' syntax and list comprehention\n",
    "def flip_keys(to_flip):\n",
    "    return [value[::-1] for value in to_flip]\n",
    "\n",
    "data = [(1, 2, 3), 'hello']\n",
    "data_flipped = flip_keys(data)\n",
    "print(data is data_flipped)\n",
    "print(data_flipped)"
   ]
  },
  {
   "cell_type": "markdown",
   "id": "1cdc99e1",
   "metadata": {},
   "source": [
    " "
   ]
  },
  {
   "cell_type": "markdown",
   "id": "cfe12da4",
   "metadata": {},
   "source": [
    " "
   ]
  },
  {
   "cell_type": "markdown",
   "id": "664caef1",
   "metadata": {},
   "source": [
    "### References"
   ]
  },
  {
   "cell_type": "markdown",
   "id": "c2dd5037",
   "metadata": {},
   "source": [
    "Lutz, M. (2013). *Learning Python (5th ed.)*. O'Reilly Media. https://www.oreilly.com/library/view/learning-python-5th/9781449355722/"
   ]
  }
 ],
 "metadata": {
  "kernelspec": {
   "display_name": "Python 3 (ipykernel)",
   "language": "python",
   "name": "python3"
  },
  "language_info": {
   "codemirror_mode": {
    "name": "ipython",
    "version": 3
   },
   "file_extension": ".py",
   "mimetype": "text/x-python",
   "name": "python",
   "nbconvert_exporter": "python",
   "pygments_lexer": "ipython3",
   "version": "3.10.9"
  }
 },
 "nbformat": 4,
 "nbformat_minor": 5
}

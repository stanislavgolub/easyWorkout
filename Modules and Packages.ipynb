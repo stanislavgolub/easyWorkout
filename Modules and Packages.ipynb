{
 "cells": [
  {
   "cell_type": "markdown",
   "id": "5699362b",
   "metadata": {},
   "source": [
    "# Modules and Packages"
   ]
  },
  {
   "cell_type": "markdown",
   "id": "959b4493",
   "metadata": {},
   "source": [
    " "
   ]
  },
  {
   "cell_type": "markdown",
   "id": "bcfae9c0",
   "metadata": {},
   "source": [
    "Let's focus on `enhancing the reusability` of Python code, particularly `functions`, and explore the benefits of `packaging` them into `portable files` that can be `reused` in other Python projects you're working on. In general, `modules` play a fundamental role in the Python programming language as they serve as the `core building blocks`. Whether a Python file is `executed directly` or `imported`, it functions as its `own module`.\n",
    "\n",
    "For example, let's assume you've developed an exceptional `function` for calculating a business metric, such as profit margin. Your fellow developers on the team may also want to `utilize your function`, considering the time and effort you've invested in ensuring its accuracy and proper definition of business operations. Instead of having them `repeatedly copy` and paste your code into their scripts, it would be ideal to create a module or a package. By doing so, you can `maintain integrity` and `consistency` by bundling your code in a `reusable format`.\n",
    "\n",
    "A `module` refers to a Python file that contains variables, functions, and any other code that you intend to reuse.\n",
    "\n",
    "On the other hand, a `package` is a collection of modules that allows you to organize related functionality together in a cohesive manner.\n",
    "\n",
    "Helpful links: [Modules](https://docs.python.org/3/tutorial/modules.html)"
   ]
  },
  {
   "cell_type": "markdown",
   "id": "42b38e2e",
   "metadata": {},
   "source": [
    " "
   ]
  },
  {
   "cell_type": "markdown",
   "id": "c3db87d4",
   "metadata": {},
   "source": [
    " ### Workout 1: Create a Package"
   ]
  },
  {
   "cell_type": "markdown",
   "id": "46d78962",
   "metadata": {},
   "source": [
    " "
   ]
  },
  {
   "cell_type": "markdown",
   "id": "3c43baab",
   "metadata": {},
   "source": [
    "Let's create a package by following these instructions:\n",
    "\n",
    "1. Establish a package named `task_01`.\n",
    "2. Inside the `task_01` package, generate a module called `treasure`.\n",
    "3. Within the `treasure` module, define a constant named `cash` that returns a `truthy` value.\n",
    "4. Additionally, within the `treasure` module, create a second constant named `gold` and assign it a `falsy` value.\n",
    "5. Check if there is some `chash` and `gold` in the module.\n",
    "6. Print out the value of the `gold`.\n",
    "\n",
    "Helpful links: [Packages](https://docs.python.org/3/tutorial/modules.html#packages)"
   ]
  },
  {
   "cell_type": "markdown",
   "id": "0b69e663",
   "metadata": {},
   "source": [
    " "
   ]
  },
  {
   "cell_type": "code",
   "execution_count": 1,
   "id": "1679f9d1",
   "metadata": {},
   "outputs": [
    {
     "name": "stdout",
     "output_type": "stream",
     "text": [
      "['/Users/stanislav/Desktop/Coding /easyWorkout', '/Users/stanislav/anaconda3/lib/python310.zip', '/Users/stanislav/anaconda3/lib/python3.10', '/Users/stanislav/anaconda3/lib/python3.10/lib-dynload', '', '/Users/stanislav/anaconda3/lib/python3.10/site-packages', '/Users/stanislav/anaconda3/lib/python3.10/site-packages/PyQt5_sip-12.11.0-py3.10-macosx-10.9-x86_64.egg', '/Users/stanislav/anaconda3/lib/python3.10/site-packages/aeosa', '/Users/stanislav/anaconda3/lib/python3.10/site-packages/mpmath-1.2.1-py3.10.egg', '/Users/stanislav/anaconda3/lib/python3.10/site-packages/pycurl-7.45.1-py3.10-macosx-10.9-x86_64.egg', '/Users/stanislav/Desktop']\n"
     ]
    }
   ],
   "source": [
    "import sys\n",
    "\"\"\"\n",
    "Description:\n",
    "\n",
    "    This module provides access to some variables used or maintained by the interpreter and to functions '\n",
    "    that interact strongly with the interpreter.\n",
    "\n",
    "\"\"\"\n",
    "\n",
    "# adding a specific path for an interpreter to search.\n",
    "sys.path.append(\"/Users/stanislav/Desktop\")\n",
    "\n",
    "# printing all directories for interpreter to search\n",
    "print(sys.path)"
   ]
  },
  {
   "cell_type": "markdown",
   "id": "8de88fb4",
   "metadata": {},
   "source": [
    " "
   ]
  },
  {
   "cell_type": "code",
   "execution_count": 2,
   "id": "4f77edb1",
   "metadata": {},
   "outputs": [
    {
     "name": "stdout",
     "output_type": "stream",
     "text": [
      "Yes, there is some cash in the treasure :D\n",
      "No gold in the treasure :(\n",
      "The variable 'gold' in the 'treasure.py' module is assigned a value of False.\n"
     ]
    }
   ],
   "source": [
    "# showing how the 'number one: treasure' module looks like inside\n",
    "\"\"\" \n",
    "Module 'number one' in 'treasure.py' file looks the following:\n",
    "\n",
    "cash = True\n",
    "gold = False\n",
    "\n",
    "\"\"\"\n",
    "\n",
    "# importing the 'treasure' module\n",
    "import task_01.treasure\n",
    "\n",
    "# importing the 'gold' variable from the treasure' module \n",
    "from task_01.treasure import gold\n",
    "\n",
    "# checking if the variable 'cash' exists in the 'treasure' module and is assigned a value of 'True'\n",
    "if task_01.treasure.cash == True :\n",
    "    print(\"Yes, there is some cash in the treasure :D\")\n",
    "else:\n",
    "    print(\"No cash in the treasure :(\")\n",
    "\n",
    "# checking if the variable 'gold' exists in the 'treasure' module and is assigned a value of 'False'\n",
    "if task_01.treasure.gold == True:\n",
    "    print(\"Yes, there is some gold in the treasure :D\")\n",
    "else:\n",
    "    print(\"No gold in the treasure :(\")\n",
    "\n",
    "# printing out the value of the 'gold' variable from the 'treasure' module\n",
    "print(\"The variable 'gold' in the 'treasure.py' module is assigned a value of \" + str(gold) + \".\")"
   ]
  },
  {
   "cell_type": "markdown",
   "id": "c18ad7fa",
   "metadata": {},
   "source": [
    " "
   ]
  },
  {
   "cell_type": "markdown",
   "id": "6f7e52ea",
   "metadata": {},
   "source": [
    "### Workout 2: Import a Module Namespace"
   ]
  },
  {
   "cell_type": "markdown",
   "id": "8d3c5734",
   "metadata": {},
   "source": [
    " "
   ]
  },
  {
   "cell_type": "markdown",
   "id": "07beab34",
   "metadata": {},
   "source": [
    "Now, let's continue working with the previous \"Workout 1\" step and follow these additional instructions:\n",
    "\n",
    "1. Generate a module named `silver`.\n",
    "2. Import the `treasure` module from the `task_01` package.\n",
    "3. Within the `silver` module, create a new constant named `silver` and assign it the value of the `cash` constant from the `treasure` module.\n",
    "4. Check if there is some `silver` in the module.\n",
    "5. Print out the value of the `silver` variable.\n",
    "\n",
    "Helpful links: [Packages](https://docs.python.org/3/tutorial/modules.html#packages)"
   ]
  },
  {
   "cell_type": "markdown",
   "id": "9c18a38b",
   "metadata": {},
   "source": [
    " "
   ]
  },
  {
   "cell_type": "code",
   "execution_count": 3,
   "id": "6151f09f",
   "metadata": {},
   "outputs": [
    {
     "name": "stdout",
     "output_type": "stream",
     "text": [
      "Yes, there is some silver in the treasure too now :D\n",
      "The variable 'silver' in the 'silver.py' module is assigned a value of True.\n"
     ]
    }
   ],
   "source": [
    "# showing how the 'number two: silver' module looks like inside\n",
    "\"\"\" \n",
    "Module 'number two' in 'silver.py' file looks the following:\n",
    "\n",
    "import task_01.treasure\n",
    "silver = task_01.treasure.cash\n",
    "\n",
    "\"\"\"\n",
    "\n",
    "# importing the 'silver' module\n",
    "import task_01.silver\n",
    "\n",
    "# importing the 'silver' variable from the 'treasure' module \n",
    "from task_01.silver import silver\n",
    "\n",
    "# checking if the variable 'silver' exists in the 'silver' module and is assigned a value of 'False'\n",
    "if task_01.silver.silver == True:\n",
    "    print(\"Yes, there is some silver in the treasure too now :D\")\n",
    "else:\n",
    "    print(\"No silver in the treasure :(\")\n",
    "\n",
    "# printing out the value of the 'silver' variable from the 'treasure' module\n",
    "print(\"The variable 'silver' in the 'silver.py' module is assigned a value of \" + str(silver) + \".\")"
   ]
  },
  {
   "cell_type": "markdown",
   "id": "0bd86660",
   "metadata": {},
   "source": [
    " "
   ]
  },
  {
   "cell_type": "markdown",
   "id": "aa6ce0ca",
   "metadata": {},
   "source": [
    "### Workout 3:  Copy a Module Attribute"
   ]
  },
  {
   "cell_type": "markdown",
   "id": "71ba313c",
   "metadata": {},
   "source": [
    " "
   ]
  },
  {
   "cell_type": "markdown",
   "id": "50226112",
   "metadata": {},
   "source": [
    "In our next `import` operation, we will be `copying` module `attributes` into the `current namespace`. Specifications:\n",
    "\n",
    "1. Generate a module named `coockies`.\n",
    "2. Copy the `silver` constant from the `treasure` module into the namespace of `cookies`.\n",
    "3. Create a new constant named `cookies` and assign its value from the copied `silver` attribute.\n",
    "4. Check if there is some `cookies` in the module now.\n",
    "6. Check if the `cookies` variable in the `cookies.py` module equlas to `cash` variable in the `treasure.py` module.\n",
    "5. Print out the value of the `cookies` variable.\n",
    "\n",
    "Helpful links: [Packages](https://docs.python.org/3/tutorial/modules.html#packages)\n",
    "\n",
    "#### Warning:\n",
    "\n",
    "It's crucial to understand the distinction between `copying data` and `copying an object` or `attribute` from another module. If you simply redeclare the `coockies` variable using `cookies = ...`, you will not fulfill the objective of this task."
   ]
  },
  {
   "cell_type": "markdown",
   "id": "6b6b7500",
   "metadata": {},
   "source": [
    " "
   ]
  },
  {
   "cell_type": "code",
   "execution_count": 4,
   "id": "ebadae33",
   "metadata": {},
   "outputs": [
    {
     "name": "stdout",
     "output_type": "stream",
     "text": [
      "Yes, the 'cookies' variable equals the value of 'cash' from the 'treasure.py' module.\n",
      "The variable 'cookies' in the 'cookies.py' module is assigned a value of True.\n"
     ]
    }
   ],
   "source": [
    "# showing how the 'number three: cookies' module looks like inside\n",
    "\"\"\" \n",
    "Module 'number three' in 'cookies.py' file looks the following:\n",
    "\n",
    "from task_01.treasure import cash\n",
    "cookies = cash\n",
    "\n",
    "\"\"\"\n",
    "\n",
    "# importing the 'cookies' module\n",
    "import task_01.cookies\n",
    "\n",
    "# importing the 'cookies' variable from the 'cookies' module \n",
    "from task_01.cookies import cookies\n",
    "\n",
    "# checking if the `cookies` variable in the `cookies.py` module equlas to `cash` variable in the `treasure.py` \n",
    "# module\n",
    "if task_01.cookies.cookies == task_01.treasure.cash:\n",
    "    print(\"Yes, the 'cookies' variable equals the value of 'cash' from the 'treasure.py' module.\")\n",
    "else:\n",
    "    print(\"No, the 'cookies' variable doesn't equal the value of 'cash' from the 'treasure.py' module.\")\n",
    "    \n",
    "# printing out the value of the 'cookies' variable from the 'cookies' module\n",
    "print(\"The variable 'cookies' in the 'cookies.py' module is assigned a value of \" + str(cookies) + \".\")"
   ]
  },
  {
   "cell_type": "markdown",
   "id": "1cdc99e1",
   "metadata": {},
   "source": [
    " "
   ]
  },
  {
   "cell_type": "markdown",
   "id": "cfe12da4",
   "metadata": {},
   "source": [
    " "
   ]
  },
  {
   "cell_type": "markdown",
   "id": "664caef1",
   "metadata": {},
   "source": [
    "### References"
   ]
  },
  {
   "cell_type": "markdown",
   "id": "c2dd5037",
   "metadata": {},
   "source": [
    "Lutz, M. (2013). *Learning Python (5th ed.)*. O'Reilly Media. https://www.oreilly.com/library/view/learning-python-5th/9781449355722/"
   ]
  }
 ],
 "metadata": {
  "kernelspec": {
   "display_name": "Python 3 (ipykernel)",
   "language": "python",
   "name": "python3"
  },
  "language_info": {
   "codemirror_mode": {
    "name": "ipython",
    "version": 3
   },
   "file_extension": ".py",
   "mimetype": "text/x-python",
   "name": "python",
   "nbconvert_exporter": "python",
   "pygments_lexer": "ipython3",
   "version": "3.10.9"
  }
 },
 "nbformat": 4,
 "nbformat_minor": 5
}
